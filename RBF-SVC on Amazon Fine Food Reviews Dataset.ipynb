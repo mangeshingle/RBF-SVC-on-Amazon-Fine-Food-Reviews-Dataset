{
 "cells": [
  {
   "cell_type": "markdown",
   "metadata": {},
   "source": [
    "# <center> RBF-SVC on Amazon Fine Food Reviews Dataset</center>\n",
    "___"
   ]
  },
  {
   "cell_type": "markdown",
   "metadata": {},
   "source": [
    "###  <b>Exercise</b> :\n",
    "\n",
    "1.\tDownload Amazon Fine Food Reviews dataset from Kaggle. You may have to create a Kaggle account to download data. (https://www.kaggle.com/snap/amazon-fine-food-reviews)\n",
    "2.\tSplit data into train and test using time based slicing as 70%  train & 30% test.\n",
    "3.\tPerform featurization, BoW, tf-idf,Avg Word2Vec, tf-idf-Word2Vec.\n",
    "4.\tApply GridsearchCV and RandomsearchCV on train data to find optimal ‘c‘and optimal ‘gamma’.\n",
    "5.\tApply RBF-SVC(Radial Basis Function – Support Vector Classification) on the dataset.\n",
    "6.\tTo test the performance of the model, calculate test error, train error, accuracy,precision,recall,F1-score,confusion matrix(TPR,TNR,FPR,FNR)\n",
    "7.  Write your observations in English as crisply and unambiguously as possible. Always quantify your results.\n"
   ]
  },
  {
   "cell_type": "markdown",
   "metadata": {},
   "source": [
    "### Information regarding data set :\n",
    "\n",
    "1. <b>Title</b>: Amazon Fine Food Reviews Data\n",
    "\n",
    "2. <b>Sources</b>: Stanford Network Analysis Project(SNAP)\n",
    "\n",
    "3. <b>Relevant Information</b>: This dataset consists of reviews of fine foods from amazon. The data span a period of more than 10 years, including all ~568,454 reviews up to October 2012(Oct 1999 - Oct 2012). Reviews include product and user information, ratings, and a plain text review.\n",
    "4.  <b>Attribute Information</b>:   \n",
    "    <b>ProductId </b>- unique identifier for the product <br/>\n",
    "    <b>UserId </b>- unqiue identifier for the user <br/>\n",
    "    <b>ProfileName </b>- name of the user <br/>\n",
    "    <b>HelpfulnessNumerator </b>- number of users who found the review helpful <br/>\n",
    "    <b>HelpfulnessDenominator </b>- number of users who indicated whether they found the review helpful or not <br/>\n",
    "    <b>Score </b>- rating between 1 and 5.( rating of 4 or 5 could be cosnidered a positive review. A review of 1 or 2 could be considered negative. A review of 3 is nuetral and ignored) <br/>\n",
    "    <b>Time </b>- timestamp for the review <br/> \n",
    "    <b>Summary </b>- brief summary of the review <br/>\n",
    "    <b>Text </b>- text of the review <br/>"
   ]
  },
  {
   "cell_type": "markdown",
   "metadata": {},
   "source": [
    "---\n",
    "\n",
    "### <b>Objective :</b> \n",
    "> <span style=\"color:blue\">It is a 2-class classification task, where we have to analyze, transform(BoW,TF-IDF,Avg Word2ec and TFIDF Word2Vec) and find a separating decision surface, which can evaluate whether a review is positive or negative.<span>\n",
    "\n",
    "---\n"
   ]
  },
  {
   "cell_type": "code",
   "execution_count": 3,
   "metadata": {
    "scrolled": true
   },
   "outputs": [],
   "source": [
    "import warnings\n",
    "from sklearn.exceptions import DataConversionWarning\n",
    "warnings.filterwarnings(action='ignore', category=DataConversionWarning)\n",
    "warnings.filterwarnings(action='ignore', category=UserWarning)\n",
    "warnings.filterwarnings(action='ignore', category=FutureWarning)\n",
    "\n",
    "import traceback\n",
    "import sqlite3\n",
    "import itertools\n",
    "import pandas as pd\n",
    "import numpy as np\n",
    "import datetime as dt\n",
    "import matplotlib.pyplot as plt\n",
    "import seaborn as sns\n",
    "from tqdm import tqdm\n",
    "from sklearn import preprocessing\n",
    "from gensim.models import Word2Vec\n",
    "from gensim.models import KeyedVectors\n",
    "from gensim.models import word2vec\n",
    "from sklearn.feature_extraction.text import CountVectorizer\n",
    "from sklearn.feature_extraction.text import TfidfVectorizer\n",
    "from sklearn.model_selection import train_test_split\n",
    "from prettytable import PrettyTable\n",
    "from sklearn.metrics import accuracy_score\n",
    "from sklearn.metrics import confusion_matrix\n",
    "from sklearn.metrics import precision_score\n",
    "from sklearn.metrics import f1_score\n",
    "from sklearn.metrics import recall_score\n",
    "from sklearn.metrics import classification_report\n",
    "from sklearn.model_selection import GridSearchCV\n",
    "from sklearn.model_selection import RandomizedSearchCV\n",
    "from sklearn.model_selection import TimeSeriesSplit\n",
    "from sklearn.svm import SVC\n",
    "from sklearn.linear_model import SGDClassifier\n",
    "from sklearn.externals import joblib"
   ]
  },
  {
   "cell_type": "markdown",
   "metadata": {},
   "source": [
    "### (1) Load dataset :"
   ]
  },
  {
   "cell_type": "code",
   "execution_count": 10,
   "metadata": {
    "scrolled": false
   },
   "outputs": [
    {
     "name": "stdout",
     "output_type": "stream",
     "text": [
      "Dataset Shape : \n",
      " (100000, 11)\n",
      "\n",
      "Column Names: \n",
      " Index(['Id', 'ProductId', 'UserId', 'ProfileName', 'HelpfulnessNumerator',\n",
      "       'HelpfulnessDenominator', 'Score', 'Time', 'Summary', 'Text',\n",
      "       'CleanedText'],\n",
      "      dtype='object')\n",
      "\n",
      "Target Class label : \n",
      "positive    84741\n",
      "negative    15259\n",
      "Name: Score, dtype: int64\n",
      "\n"
     ]
    },
    {
     "data": {
      "image/png": "[encoded data removed]",
      "text/plain": [
       "<Figure size 360x360 with 1 Axes>"
      ]
     },
     "metadata": {
      "needs_background": "light"
     },
     "output_type": "display_data"
    },
    {
     "data": {
      "text/html": [
       "<div>\n",
       "<style scoped>\n",
       "    .dataframe tbody tr th:only-of-type {\n",
       "        vertical-align: middle;\n",
       "    }\n",
       "\n",
       "    .dataframe tbody tr th {\n",
       "        vertical-align: top;\n",
       "    }\n",
       "\n",
       "    .dataframe thead th {\n",
       "        text-align: right;\n",
       "    }\n",
       "</style>\n",
       "<table border=\"1\" class=\"dataframe\">\n",
       "  <thead>\n",
       "    <tr style=\"text-align: right;\">\n",
       "      <th></th>\n",
       "      <th>Id</th>\n",
       "      <th>ProductId</th>\n",
       "      <th>UserId</th>\n",
       "      <th>ProfileName</th>\n",
       "      <th>HelpfulnessNumerator</th>\n",
       "      <th>HelpfulnessDenominator</th>\n",
       "      <th>Score</th>\n",
       "      <th>Time</th>\n",
       "      <th>Summary</th>\n",
       "      <th>Text</th>\n",
       "      <th>CleanedText</th>\n",
       "    </tr>\n",
       "  </thead>\n",
       "  <tbody>\n",
       "    <tr>\n",
       "      <th>382</th>\n",
       "      <td>451856</td>\n",
       "      <td>B00004CXX9</td>\n",
       "      <td>AIUWLEQ1ADEG5</td>\n",
       "      <td>Elizabeth Medina</td>\n",
       "      <td>0</td>\n",
       "      <td>0</td>\n",
       "      <td>positive</td>\n",
       "      <td>1999-12-02 05:30:00</td>\n",
       "      <td>Entertainingl Funny!</td>\n",
       "      <td>Beetlejuice is a well written movie ..... ever...</td>\n",
       "      <td>beetlejuic well written movi everyth excel act...</td>\n",
       "    </tr>\n",
       "    <tr>\n",
       "      <th>369</th>\n",
       "      <td>374343</td>\n",
       "      <td>B00004CI84</td>\n",
       "      <td>A1B2IZU1JLZA6</td>\n",
       "      <td>Wes</td>\n",
       "      <td>19</td>\n",
       "      <td>23</td>\n",
       "      <td>negative</td>\n",
       "      <td>2000-01-19 05:30:00</td>\n",
       "      <td>WARNING: CLAMSHELL EDITION IS EDITED TV VERSION</td>\n",
       "      <td>I, myself always enjoyed this movie, it's very...</td>\n",
       "      <td>alway enjoy movi funni entertain didnt hesit p...</td>\n",
       "    </tr>\n",
       "    <tr>\n",
       "      <th>188</th>\n",
       "      <td>76882</td>\n",
       "      <td>B00002N8SM</td>\n",
       "      <td>A32DW342WBJ6BX</td>\n",
       "      <td>Buttersugar</td>\n",
       "      <td>0</td>\n",
       "      <td>0</td>\n",
       "      <td>positive</td>\n",
       "      <td>2000-01-24 05:30:00</td>\n",
       "      <td>A sure death for flies</td>\n",
       "      <td>I bought a few of these after my apartment was...</td>\n",
       "      <td>bought apart infest fruit fli hour trap mani f...</td>\n",
       "    </tr>\n",
       "    <tr>\n",
       "      <th>392</th>\n",
       "      <td>451903</td>\n",
       "      <td>B00004CXX9</td>\n",
       "      <td>A2DEE7F9XKP3ZR</td>\n",
       "      <td>jerome</td>\n",
       "      <td>0</td>\n",
       "      <td>1</td>\n",
       "      <td>positive</td>\n",
       "      <td>2000-06-03 05:30:00</td>\n",
       "      <td>Research</td>\n",
       "      <td>I'm getting crazy.&lt;p&gt;Is it really impossible t...</td>\n",
       "      <td>get crazi realli imposs today find french vhs ...</td>\n",
       "    </tr>\n",
       "    <tr>\n",
       "      <th>350</th>\n",
       "      <td>374400</td>\n",
       "      <td>B00004CI84</td>\n",
       "      <td>A2DEE7F9XKP3ZR</td>\n",
       "      <td>jerome</td>\n",
       "      <td>0</td>\n",
       "      <td>3</td>\n",
       "      <td>positive</td>\n",
       "      <td>2000-06-03 05:30:00</td>\n",
       "      <td>Research - Beatlejuice video - French version</td>\n",
       "      <td>I'm getting crazy.I'm looking for Beatlejuice ...</td>\n",
       "      <td>get crazi look beatlejuic french version video...</td>\n",
       "    </tr>\n",
       "  </tbody>\n",
       "</table>\n",
       "</div>"
      ],
      "text/plain": [
       "         Id   ProductId          UserId       ProfileName  \\\n",
       "382  451856  B00004CXX9   AIUWLEQ1ADEG5  Elizabeth Medina   \n",
       "369  374343  B00004CI84   A1B2IZU1JLZA6               Wes   \n",
       "188   76882  B00002N8SM  A32DW342WBJ6BX       Buttersugar   \n",
       "392  451903  B00004CXX9  A2DEE7F9XKP3ZR            jerome   \n",
       "350  374400  B00004CI84  A2DEE7F9XKP3ZR            jerome   \n",
       "\n",
       "     HelpfulnessNumerator  HelpfulnessDenominator     Score  \\\n",
       "382                     0                       0  positive   \n",
       "369                    19                      23  negative   \n",
       "188                     0                       0  positive   \n",
       "392                     0                       1  positive   \n",
       "350                     0                       3  positive   \n",
       "\n",
       "                   Time                                          Summary  \\\n",
       "382 1999-12-02 05:30:00                             Entertainingl Funny!   \n",
       "369 2000-01-19 05:30:00  WARNING: CLAMSHELL EDITION IS EDITED TV VERSION   \n",
       "188 2000-01-24 05:30:00                           A sure death for flies   \n",
       "392 2000-06-03 05:30:00                                         Research   \n",
       "350 2000-06-03 05:30:00    Research - Beatlejuice video - French version   \n",
       "\n",
       "                                                  Text  \\\n",
       "382  Beetlejuice is a well written movie ..... ever...   \n",
       "369  I, myself always enjoyed this movie, it's very...   \n",
       "188  I bought a few of these after my apartment was...   \n",
       "392  I'm getting crazy.<p>Is it really impossible t...   \n",
       "350  I'm getting crazy.I'm looking for Beatlejuice ...   \n",
       "\n",
       "                                           CleanedText  \n",
       "382  beetlejuic well written movi everyth excel act...  \n",
       "369  alway enjoy movi funni entertain didnt hesit p...  \n",
       "188  bought apart infest fruit fli hour trap mani f...  \n",
       "392  get crazi realli imposs today find french vhs ...  \n",
       "350  get crazi look beatlejuic french version video...  "
      ]
     },
     "execution_count": 10,
     "metadata": {},
     "output_type": "execute_result"
    }
   ],
   "source": [
    "# This dataset is already gone through data deduplication and text preprocessing, so it is approx ~364K\n",
    "\n",
    "# For Data Cleaning Steps follow this link -\n",
    "# ipython notebook - https://drive.google.com/open?id=1JXCva5vXdIPgHbfNdD9sgnySqELoVtpy\n",
    "# dataset - https://drive.google.com/open?id=1IoDoTT8TfDu53N6cyKg6xVCU-FDPHyIF\n",
    "\n",
    "# For Text Preporcessing Steps follow this link -\n",
    "# ipython notebook - https://drive.google.com/open?id=18-AkTzzEhCwM_hflIbDNBMAP-imX4k4i\n",
    "# dataset - https://drive.google.com/open?id=1SfDwwXFhDpjgtfIE5O_E80SO89xRc8Sa\n",
    "\n",
    "# Load dataset\n",
    "def load_review_dataset():\n",
    "    # Create connection object to load sqlite dataset\n",
    "    connection = sqlite3.connect('finalDataSet.sqlite')\n",
    "\n",
    "    # Load data into pandas dataframe.\n",
    "    reviews_df = pd.read_sql_query(\"\"\" SELECT * FROM Reviews \"\"\",connection)\n",
    "\n",
    "    # Drop index column \n",
    "    reviews_df = reviews_df.drop(columns=['index'])\n",
    "    \n",
    "    # Save data before sampling\n",
    "    joblib.dump(reviews_df, 'reviews_364k.joblib') \n",
    "    \n",
    "    # Take sample of reviews\n",
    "    # 100K points taken, as RBF-SVC takes more time to train.\n",
    "    reviews_df = reviews_df.sample(100000)\n",
    "        \n",
    "    # Convert timestamp to datetime.\n",
    "    reviews_df['Time'] = reviews_df[['Time']].applymap(lambda x: dt.datetime.fromtimestamp(x))\n",
    "\n",
    "    # Sort the data on the basis of time.\n",
    "    reviews_df = reviews_df.sort_values(by=['Time'])\n",
    "\n",
    "    print(\"Dataset Shape : \\n\",reviews_df.shape)\n",
    "    print(\"\\nColumn Names: \\n\",reviews_df.columns)\n",
    "    print(\"\\nTarget Class label : \")\n",
    "    print(reviews_df['Score'].value_counts())\n",
    "    print()   \n",
    "    \n",
    "    return reviews_df\n",
    "\n",
    "\n",
    "# Load 'finalDataSet.sqlite' in panda's daraframe.\n",
    "reviews_df = load_review_dataset()\n",
    "\n",
    "# Split data into train and test\n",
    "X_TRAIN, X_TEST, Y_TRAIN, Y_TEST = train_test_split(reviews_df['CleanedText'].values,\n",
    "                                                    reviews_df['Score'].values,\n",
    "                                                    test_size=0.3,\n",
    "                                                    shuffle=False,\n",
    "                                                    random_state=0)\n",
    "\n",
    "\n",
    "# Plot score\n",
    "sns.catplot(x =\"Score\",kind='count',data=reviews_df,height=5)\n",
    "plt.title(\"Score Count\", fontsize=18)\n",
    "plt.show()\n",
    "reviews_df.head()"
   ]
  },
  {
   "cell_type": "code",
   "execution_count": 11,
   "metadata": {
    "scrolled": true
   },
   "outputs": [],
   "source": [
    "###--- All utility variables and functions(After importing all the necessary packages, always run this cell first.) ---###\n",
    "\n",
    "# hyperparameter C\n",
    "list_c = []\n",
    "\n",
    "# hyperparameter gamma\n",
    "list_gamma = []\n",
    "\n",
    "# Training Error\n",
    "train_error = []\n",
    "\n",
    "# Test Error\n",
    "test_error = []\n",
    "\n",
    "\n",
    "def plot_report_confusion_matrix(confusion_matrix, classes,\n",
    "                          normalize=False,\n",
    "                          title='Confusion matrix',\n",
    "                          cmap=plt.cm.Blues):    \n",
    "    plt.figure()\n",
    "    plt.imshow(confusion_matrix, interpolation='nearest', cmap=cmap)\n",
    "    plt.title(title)\n",
    "    plt.colorbar()\n",
    "    tick_marks = np.arange(len(classes))\n",
    "    plt.xticks(tick_marks, classes, rotation=45)\n",
    "    plt.yticks(tick_marks, classes)\n",
    "\n",
    "    fmt = '.2f' if normalize else 'd'\n",
    "    thresh = confusion_matrix.max() / 2.\n",
    "    for i, j in itertools.product(range(confusion_matrix.shape[0]), range(confusion_matrix.shape[1])):\n",
    "        plt.text(j, i, format(confusion_matrix[i, j], fmt),\n",
    "                 horizontalalignment=\"center\",\n",
    "                 color=\"white\" if confusion_matrix[i, j] > thresh else \"black\")\n",
    "\n",
    "    plt.ylabel('True label')\n",
    "    plt.xlabel('Predicted label')\n",
    "    plt.tight_layout()\n",
    "    plt.show()\n",
    "    \n",
    "    TN = confusion_matrix[0,0]       \n",
    "    FP = confusion_matrix[0,1]  \n",
    "    FN = confusion_matrix[1,0]\n",
    "    TP = confusion_matrix[1,1]\n",
    "    \n",
    "\n",
    "    # Sensitivity, hit rate, recall, or true positive rate\n",
    "    TPR = TP/(TP+FN)\n",
    "    \n",
    "    # Specificity or true negative rate\n",
    "    TNR = TN/(TN+FP)  \n",
    "    \n",
    "    # Fall out or false positive rate\n",
    "    FPR = FP/(FP+TN)\n",
    "    \n",
    "    # False negative rate\n",
    "    FNR = FN/(TP+FN)\n",
    "    \n",
    "    # Overall accuracy\n",
    "    ACC = (TP+TN)/(TP+FP+FN+TN)\n",
    "    \n",
    "    print()\n",
    "    # Pretty table instance\n",
    "    ptable = PrettyTable()\n",
    "    ptable.title = \"Confusion Matrix Report\"\n",
    "    ptable.field_names = ['Term','Value']\n",
    "    ptable.add_row([\"TP (True Positive)\",TP])\n",
    "    ptable.add_row([\"TN (True Negative)\",TN])\n",
    "    ptable.add_row([\"FP (False Positive)\",FP])\n",
    "    ptable.add_row([\"FN (False Negative)\",FN])\n",
    "    ptable.add_row([\"TPR (True Positive Rate)= TP/(TP+FN))\",\"{0:.2f}\".format(TPR)])\n",
    "    ptable.add_row([\"TNR (True Negative Rate)= TN/(TN+FP))\",\"{0:.2f}\".format(TNR)])\n",
    "    ptable.add_row([\"FPR (False Positive Rate)= FP/(FP+TN))\",\"{0:.2f}\".format(FPR)])\n",
    "    ptable.add_row([\"FNR (False Negative Rate)= FN/(TP+FN))\",\"{0:.2f}\".format(FNR)])\n",
    "    ptable.add_row([\"ACC (Accuracy)= (TP+TN)/(TP+FP+FN+TN))\",\"{0:.2f}%\".format(ACC*100)])\n",
    "    \n",
    "    # Print pretty table values\n",
    "    print(ptable)\n",
    "\n",
    "\n",
    "def performance_measure(classifier,train_feature,test_feature):\n",
    "    print(\"-------------------------- {0} --------------------------\".format(type(classifier).__name__))           \n",
    "            \n",
    "    # Predict target class label\n",
    "    predicted_y_test = classifier.predict(test_feature)\n",
    "    \n",
    "    # Predict train class label\n",
    "    predicted_y_train = classifier.predict(train_feature)\n",
    "            \n",
    "    ptable = PrettyTable()\n",
    "    if type(classifier) is GridSearchCV:\n",
    "        ptable.title = \"GridSearchCV\"\n",
    "    else:\n",
    "        ptable.title = \"RandomizedSearchCV\"\n",
    "                \n",
    "    ptable.field_names = [\"Hyperparameter (C)\", \"Hyperparameter (gamma)\",\"Scoring\",\"Mean\",\"Variance\"]\n",
    "\n",
    "    list_means = classifier.cv_results_['mean_test_score']\n",
    "    list_stds = classifier.cv_results_['std_test_score']\n",
    "    list_params = classifier.cv_results_['params']   \n",
    "       \n",
    "    for mean, std, params in zip(list_means, list_stds, list_params):                \n",
    "        ptable.add_row([params['C'],params['gamma'],\"Accuracy\", \"{0:.2f}\".format(mean), \"{0:.2f}\".format(std*2)])\n",
    "\n",
    "               \n",
    "    print()\n",
    "    print(ptable)\n",
    "    print()\n",
    "\n",
    "    optimal_c = classifier.best_params_['C']\n",
    "    optimal_gamma = classifier.best_params_['gamma']\n",
    "    train_accuracy = accuracy_score(Y_TRAIN, predicted_y_train)\n",
    "    test_accuracy = accuracy_score(Y_TEST, predicted_y_test)\n",
    "    \n",
    "    list_c.append(optimal_c)\n",
    "    list_gamma.append(optimal_gamma)\n",
    "    \n",
    "    test_error.append(1 - test_accuracy)\n",
    "    train_error.append(1 - train_accuracy)    \n",
    "             \n",
    "    # Print Optimal hyperparameter and corresponding accuracy\n",
    "    ptable = PrettyTable()\n",
    "    ptable.title = \"Optimal hyperparameter & Testing accuracy score\"\n",
    "    ptable.field_names=[\"Cross Validation\",\"Optimal Hyperparameter (C)\",\"Optimal Hyperparameter (gamma)\",\"Accuracy(%)\"]\n",
    "    ptable.add_row([type(classifier).__name__ ,optimal_c, optimal_gamma,\"{0:.2f}\".format(classifier.best_score_*100)])\n",
    "    print(ptable)  \n",
    "            \n",
    "    # Print classification report\n",
    "    print()          \n",
    "    ptable = PrettyTable()\n",
    "    ptable.title = \"Classification Report with C = {0} and Gamma = {1}\".format(optimal_c,optimal_gamma)\n",
    "    ptable.field_names = [\"Class Lable/Averages\",\"Precision\", \"Recall\",\"F1-Score\",\"Support\"]\n",
    "    report_dict = classification_report(Y_TEST, predicted_y_test,output_dict = True)\n",
    "    for key , value in report_dict.items():        \n",
    "        inner_dict = value        \n",
    "        ptable.add_row([key,\n",
    "                        \"{0:.2f}\".format(inner_dict['precision']),\n",
    "                        \"{0:.2f}\".format(inner_dict['recall']),\n",
    "                        \"{0:.2f}\".format(inner_dict['f1-score']),\n",
    "                        \"{0:.2f}\".format(inner_dict['support'])])\n",
    "            \n",
    "    print(ptable)\n",
    "           \n",
    "    # Calculate and plot confusion matrix\n",
    "    cnf_mat = confusion_matrix(Y_TEST, predicted_y_test)            \n",
    "    plot_report_confusion_matrix(cnf_mat, classes=[\"negative\", \"positive\"],title='Confusion Matrix')\n",
    "    print()        \n",
    "    print()\n",
    "    \n",
    "    \n",
    "def conclude_RBF_SVC():\n",
    "    ptable=PrettyTable()\n",
    "    ptable.title = \"*** Conclusion - RBF-SVC ***\"\n",
    "    ptable.field_names=[\"CV\",\"Model\",\"Hyperparameter 'C'\",\"Hyperparameter 'gamma\",\"Train Error\",\"Test Error\"]\n",
    "    ptable.add_row([\"GridSearchCV\",\n",
    "                    \"BOW:RBF-SVC\",\n",
    "                    list_c[0],\n",
    "                    list_gamma[0],\n",
    "                    str(round(train_error[0], 2)*100)+\"%\",\n",
    "                    str(round(test_error[0], 2)*100)+\"%\"])\n",
    "    ptable.add_row([\"RandomizedSearchCV\",\n",
    "                    \"BOW:RBF-SVC\",\n",
    "                    list_c[1],\n",
    "                    list_gamma[1],\n",
    "                    str(round(train_error[1], 2)*100)+\"%\",\n",
    "                    str(round(test_error[1], 2)*100)+\"%\"])\n",
    "                \n",
    "    ptable.add_row([\"GridSearchCV\",\n",
    "                    \"TFIDF:RBF-SVC\",\n",
    "                    list_c[2],\n",
    "                    list_gamma[2],\n",
    "                    str(round(train_error[2], 2)*100)+\"%\",\n",
    "                    str(round(test_error[2], 2)*100)+\"%\"])\n",
    "    ptable.add_row([\"RandomizedSearchCV\",\n",
    "                    \"TFIDF:RBF-SVC\",\n",
    "                    list_c[3],\n",
    "                    list_gamma[3],\n",
    "                    str(round(train_error[3], 2)*100)+\"%\",\n",
    "                    str(round(test_error[4], 2)*100)+\"%\"])                        \n",
    "\n",
    "    ptable.add_row([\"GridSearchCV\",\n",
    "                    \"AVG-WORD2VEC:RBF-SVC\",\n",
    "                    list_c[4],\n",
    "                    list_gamma[4],\n",
    "                    str(round(train_error[4], 2)*100)+\"%\",\n",
    "                    str(round(test_error[4], 2)*100)+\"%\"])\n",
    "    ptable.add_row([\"RandomizedSearchCV\",\n",
    "                    \"AVG-WORD2VEC:RBF-SVC\",\n",
    "                    list_c[5],\n",
    "                    list_gamma[5],\n",
    "                    str(round(train_error[5], 2)*100)+\"%\",\n",
    "                    str(round(test_error[5], 2)*100)+\"%\"])\n",
    "                        \n",
    "    ptable.add_row([\"GridSearchCV\",\n",
    "                    \"TFIDF-WORD2VEC:RBF-SVC\",\n",
    "                    list_c[6],\n",
    "                    list_gamma[6],\n",
    "                    str(round(train_error[6], 2)*100)+\"%\",\n",
    "                    str(round(test_error[6], 2)*100)+\"%\"])\n",
    "    ptable.add_row([\"RandomizedSearchCV\",\n",
    "                    \"TFIDF-WORD2VEC:RBF-SVC\",\n",
    "                    list_c[7],\n",
    "                    list_gamma[7],\n",
    "                    str(round(train_error[7], 2)*100)+\"%\",\n",
    "                    str(round(test_error[7], 2)*100)+\"%\"])\n",
    "    print(ptable)\n",
    "    \n",
    "    \n",
    "def conclude_LinearSVM():\n",
    "    ptable=PrettyTable()\n",
    "    ptable.title = \"*** Conclusion - Linear-SVM ***\"\n",
    "    ptable.field_names=[\"CV\",\"Model\",\"Hyperparameter 'alpha\",\"Train Error\",\"Test Error\"]\n",
    "    ptable.add_row([\"GridSearchCV\",\n",
    "                    \"BOW:SGDClassifier\",\n",
    "                    list_alpha[0],                   \n",
    "                    str(round(train_error[0], 2)*100)+\"%\",\n",
    "                    str(round(test_error[0], 2)*100)+\"%\"])\n",
    "                \n",
    "    ptable.add_row([\"GridSearchCV\",\n",
    "                    \"TFIDF:SGDClassifier\",\n",
    "                    list_alpha[1],                   \n",
    "                    str(round(train_error[1], 2)*100)+\"%\",\n",
    "                    str(round(test_error[1], 2)*100)+\"%\"])\n",
    "                      \n",
    "\n",
    "    ptable.add_row([\"GridSearchCV\",\n",
    "                    \"AVG-WORD2VEC:SGDClassifier\",\n",
    "                    list_alpha[2],                  \n",
    "                    str(round(train_error[2], 2)*100)+\"%\",\n",
    "                    str(round(test_error[2], 2)*100)+\"%\"])\n",
    "\n",
    "                        \n",
    "    ptable.add_row([\"GridSearchCV\",\n",
    "                    \"TFIDF-WORD2VEC:SGDClassifier\",\n",
    "                    list_alpha[3],           \n",
    "                    str(round(train_error[3], 2)*100)+\"%\",\n",
    "                    str(round(test_error[3], 2)*100)+\"%\"])\n",
    "\n",
    "    print(ptable)"
   ]
  },
  {
   "cell_type": "markdown",
   "metadata": {},
   "source": [
    "<br/><br/>"
   ]
  },
  {
   "cell_type": "markdown",
   "metadata": {},
   "source": [
    "### (2) Convert review text to vector representation :\n",
    "#### (2.1) Bag of Words (BoW) :"
   ]
  },
  {
   "cell_type": "code",
   "execution_count": 12,
   "metadata": {
    "scrolled": true
   },
   "outputs": [],
   "source": [
    "# Ideal values of C and Gamma - http://www.gatsby.ucl.ac.uk/aistats/fullpapers/198.pdf\n",
    "parameters = {'C':[2**-5,2**-3,2**-1,2**1,2**3,2**5],\n",
    "             'gamma':[2**-5,2**-3,2**-1,2**1,2**3,2**5]}"
   ]
  },
  {
   "cell_type": "code",
   "execution_count": 13,
   "metadata": {
    "scrolled": true
   },
   "outputs": [
    {
     "name": "stdout",
     "output_type": "stream",
     "text": [
      "\n",
      "The type of count vectorizer  <class 'scipy.sparse.csr.csr_matrix'>\n",
      "The shape of train matrix  (70000, 36770)\n",
      "The number of unique words in train matrix  36770\n",
      "Wall time: 4.36 s\n"
     ]
    }
   ],
   "source": [
    "%%time\n",
    "\n",
    "# Instantiate CountVectorizer\n",
    "bow_count_vectorizer = CountVectorizer()\n",
    "\n",
    "# Tokenize and build vocab\n",
    "bow_count_vectorizer.fit(X_TRAIN)\n",
    "\n",
    "# Encode document\n",
    "x_train_matrix = bow_count_vectorizer.transform(X_TRAIN)\n",
    "x_test_matrix = bow_count_vectorizer.transform(X_TEST)\n",
    "\n",
    "print(\"\\nThe type of count vectorizer \",type(x_train_matrix))\n",
    "print(\"The shape of train matrix \",x_train_matrix.get_shape())\n",
    "print(\"The number of unique words in train matrix \", x_train_matrix.get_shape()[1])\n",
    "\n",
    "# Data Normalization\n",
    "x_train_matrix = preprocessing.normalize(x_train_matrix)\n",
    "x_test_matrix = preprocessing.normalize(x_test_matrix)"
   ]
  },
  {
   "cell_type": "code",
   "execution_count": 14,
   "metadata": {
    "scrolled": false
   },
   "outputs": [
    {
     "name": "stdout",
     "output_type": "stream",
     "text": [
      "Fitting 2 folds for each of 36 candidates, totalling 72 fits\n"
     ]
    },
    {
     "name": "stderr",
     "output_type": "stream",
     "text": [
      "[Parallel(n_jobs=-1)]: Using backend LokyBackend with 6 concurrent workers.\n",
      "[Parallel(n_jobs=-1)]: Done  38 tasks      | elapsed: 86.0min\n",
      "[Parallel(n_jobs=-1)]: Done  72 out of  72 | elapsed: 288.2min finished\n"
     ]
    },
    {
     "name": "stdout",
     "output_type": "stream",
     "text": [
      "Best Hyperparameter 'C' :  32\n",
      "Best Hyperparameter 'Gamma' :  0.5\n",
      "Accuracy on BoW : 91.48%\n",
      "-------------------------- GridSearchCV --------------------------\n",
      "\n",
      "+--------------------------------------------------------------------------+\n",
      "|                               GridSearchCV                               |\n",
      "+--------------------+------------------------+----------+------+----------+\n",
      "| Hyperparameter (C) | Hyperparameter (gamma) | Scoring  | Mean | Variance |\n",
      "+--------------------+------------------------+----------+------+----------+\n",
      "|      0.03125       |        0.03125         | Accuracy | 0.84 |   0.01   |\n",
      "|      0.03125       |         0.125          | Accuracy | 0.84 |   0.01   |\n",
      "|      0.03125       |          0.5           | Accuracy | 0.84 |   0.01   |\n",
      "|      0.03125       |           2            | Accuracy | 0.84 |   0.01   |\n",
      "|      0.03125       |           8            | Accuracy | 0.84 |   0.01   |\n",
      "|      0.03125       |           32           | Accuracy | 0.84 |   0.01   |\n",
      "|       0.125        |        0.03125         | Accuracy | 0.84 |   0.01   |\n",
      "|       0.125        |         0.125          | Accuracy | 0.84 |   0.01   |\n",
      "|       0.125        |          0.5           | Accuracy | 0.85 |   0.00   |\n",
      "|       0.125        |           2            | Accuracy | 0.84 |   0.01   |\n",
      "|       0.125        |           8            | Accuracy | 0.84 |   0.01   |\n",
      "|       0.125        |           32           | Accuracy | 0.84 |   0.01   |\n",
      "|        0.5         |        0.03125         | Accuracy | 0.84 |   0.01   |\n",
      "|        0.5         |         0.125          | Accuracy | 0.86 |   0.03   |\n",
      "|        0.5         |          0.5           | Accuracy | 0.88 |   0.03   |\n",
      "|        0.5         |           2            | Accuracy | 0.86 |   0.02   |\n",
      "|        0.5         |           8            | Accuracy | 0.84 |   0.01   |\n",
      "|        0.5         |           32           | Accuracy | 0.84 |   0.01   |\n",
      "|         2          |        0.03125         | Accuracy | 0.87 |   0.03   |\n",
      "|         2          |         0.125          | Accuracy | 0.90 |   0.02   |\n",
      "|         2          |          0.5           | Accuracy | 0.91 |   0.01   |\n",
      "|         2          |           2            | Accuracy | 0.90 |   0.02   |\n",
      "|         2          |           8            | Accuracy | 0.84 |   0.01   |\n",
      "|         2          |           32           | Accuracy | 0.84 |   0.01   |\n",
      "|         8          |        0.03125         | Accuracy | 0.90 |   0.01   |\n",
      "|         8          |         0.125          | Accuracy | 0.91 |   0.00   |\n",
      "|         8          |          0.5           | Accuracy | 0.91 |   0.01   |\n",
      "|         8          |           2            | Accuracy | 0.90 |   0.02   |\n",
      "|         8          |           8            | Accuracy | 0.84 |   0.01   |\n",
      "|         8          |           32           | Accuracy | 0.84 |   0.01   |\n",
      "|         32         |        0.03125         | Accuracy | 0.91 |   0.01   |\n",
      "|         32         |         0.125          | Accuracy | 0.91 |   0.01   |\n",
      "|         32         |          0.5           | Accuracy | 0.91 |   0.01   |\n",
      "|         32         |           2            | Accuracy | 0.90 |   0.02   |\n",
      "|         32         |           8            | Accuracy | 0.84 |   0.01   |\n",
      "|         32         |           32           | Accuracy | 0.84 |   0.01   |\n",
      "+--------------------+------------------------+----------+------+----------+\n",
      "\n",
      "+----------------------------------------------------------------------------------------------+\n",
      "|                       Optimal hyperparameter & Testing accuracy score                        |\n",
      "+------------------+----------------------------+--------------------------------+-------------+\n",
      "| Cross Validation | Optimal Hyperparameter (C) | Optimal Hyperparameter (gamma) | Accuracy(%) |\n",
      "+------------------+----------------------------+--------------------------------+-------------+\n",
      "|   GridSearchCV   |             32             |              0.5               |    91.48    |\n",
      "+------------------+----------------------------+--------------------------------+-------------+\n",
      "\n",
      "+-----------------------------------------------------------------+\n",
      "|        Classification Report with C = 32 and Gamma = 0.5        |\n",
      "+----------------------+-----------+--------+----------+----------+\n",
      "| Class Lable/Averages | Precision | Recall | F1-Score | Support  |\n",
      "+----------------------+-----------+--------+----------+----------+\n",
      "|       negative       |    0.80   |  0.66  |   0.73   | 5112.00  |\n",
      "|       positive       |    0.93   |  0.97  |   0.95   | 24888.00 |\n",
      "|      micro avg       |    0.92   |  0.92  |   0.92   | 30000.00 |\n",
      "|      macro avg       |    0.87   |  0.81  |   0.84   | 30000.00 |\n",
      "|     weighted avg     |    0.91   |  0.92  |   0.91   | 30000.00 |\n",
      "+----------------------+-----------+--------+----------+----------+\n"
     ]
    },
    {
     "data": {
      "image/png": "[encoded data removed]",
      "text/plain": [
       "<Figure size 432x288 with 2 Axes>"
      ]
     },
     "metadata": {
      "needs_background": "light"
     },
     "output_type": "display_data"
    },
    {
     "name": "stdout",
     "output_type": "stream",
     "text": [
      "\n",
      "+-------------------------------------------------+\n",
      "|             Confusion Matrix Report             |\n",
      "+----------------------------------------+--------+\n",
      "|                  Term                  | Value  |\n",
      "+----------------------------------------+--------+\n",
      "|           TP (True Positive)           | 24063  |\n",
      "|           TN (True Negative)           |  3389  |\n",
      "|          FP (False Positive)           |  1723  |\n",
      "|          FN (False Negative)           |  825   |\n",
      "| TPR (True Positive Rate)= TP/(TP+FN))  |  0.97  |\n",
      "| TNR (True Negative Rate)= TN/(TN+FP))  |  0.66  |\n",
      "| FPR (False Positive Rate)= FP/(FP+TN)) |  0.34  |\n",
      "| FNR (False Negative Rate)= FN/(TP+FN)) |  0.03  |\n",
      "| ACC (Accuracy)= (TP+TN)/(TP+FP+FN+TN)) | 91.51% |\n",
      "+----------------------------------------+--------+\n",
      "\n",
      "\n",
      "Wall time: 5h 42min 39s\n"
     ]
    }
   ],
   "source": [
    "%%time\n",
    "\n",
    "# Grid search cross Validation on bow\n",
    "gscv = GridSearchCV(SVC(kernel='rbf'), \n",
    "                    scoring=\"accuracy\",\n",
    "                    param_grid=parameters,                    \n",
    "                    cv = TimeSeriesSplit(n_splits=2),\n",
    "                    verbose=1, \n",
    "                    n_jobs=-1)\n",
    "# Fit the model\n",
    "gscv.fit(x_train_matrix,Y_TRAIN)\n",
    "\n",
    "print(\"Best Hyperparameter 'C' : \",gscv.best_params_.get('C'))\n",
    "print(\"Best Hyperparameter 'Gamma' : \",gscv.best_params_.get('gamma'))\n",
    "print(\"Accuracy on BoW : %.2f%%\"%(gscv.best_score_*100))\n",
    "\n",
    "# Perform performance meausre,plot and draw reports.\n",
    "performance_measure(gscv,x_train_matrix,x_test_matrix)"
   ]
  },
  {
   "cell_type": "code",
   "execution_count": 15,
   "metadata": {
    "scrolled": false
   },
   "outputs": [
    {
     "name": "stdout",
     "output_type": "stream",
     "text": [
      "Fitting 2 folds for each of 10 candidates, totalling 20 fits\n"
     ]
    },
    {
     "name": "stderr",
     "output_type": "stream",
     "text": [
      "[Parallel(n_jobs=-1)]: Using backend LokyBackend with 6 concurrent workers.\n",
      "[Parallel(n_jobs=-1)]: Done  20 out of  20 | elapsed: 80.9min finished\n"
     ]
    },
    {
     "name": "stdout",
     "output_type": "stream",
     "text": [
      "Best Hyperparameter 'C' :  32\n",
      "Best Hyperparameter 'Gamma' :  0.5\n",
      "Accuracy on BoW : 91.48%\n",
      "-------------------------- RandomizedSearchCV --------------------------\n",
      "\n",
      "+--------------------------------------------------------------------------+\n",
      "|                            RandomizedSearchCV                            |\n",
      "+--------------------+------------------------+----------+------+----------+\n",
      "| Hyperparameter (C) | Hyperparameter (gamma) | Scoring  | Mean | Variance |\n",
      "+--------------------+------------------------+----------+------+----------+\n",
      "|         32         |           32           | Accuracy | 0.84 |   0.01   |\n",
      "|         32         |          0.5           | Accuracy | 0.91 |   0.01   |\n",
      "|         2          |           32           | Accuracy | 0.84 |   0.01   |\n",
      "|       0.125        |           2            | Accuracy | 0.84 |   0.01   |\n",
      "|         2          |         0.125          | Accuracy | 0.90 |   0.02   |\n",
      "|        0.5         |        0.03125         | Accuracy | 0.84 |   0.01   |\n",
      "|        0.5         |          0.5           | Accuracy | 0.88 |   0.03   |\n",
      "|      0.03125       |           2            | Accuracy | 0.84 |   0.01   |\n",
      "|         2          |           2            | Accuracy | 0.90 |   0.02   |\n",
      "|         2          |          0.5           | Accuracy | 0.91 |   0.01   |\n",
      "+--------------------+------------------------+----------+------+----------+\n",
      "\n",
      "+------------------------------------------------------------------------------------------------+\n",
      "|                        Optimal hyperparameter & Testing accuracy score                         |\n",
      "+--------------------+----------------------------+--------------------------------+-------------+\n",
      "|  Cross Validation  | Optimal Hyperparameter (C) | Optimal Hyperparameter (gamma) | Accuracy(%) |\n",
      "+--------------------+----------------------------+--------------------------------+-------------+\n",
      "| RandomizedSearchCV |             32             |              0.5               |    91.48    |\n",
      "+--------------------+----------------------------+--------------------------------+-------------+\n",
      "\n",
      "+-----------------------------------------------------------------+\n",
      "|        Classification Report with C = 32 and Gamma = 0.5        |\n",
      "+----------------------+-----------+--------+----------+----------+\n",
      "| Class Lable/Averages | Precision | Recall | F1-Score | Support  |\n",
      "+----------------------+-----------+--------+----------+----------+\n",
      "|       negative       |    0.80   |  0.66  |   0.73   | 5112.00  |\n",
      "|       positive       |    0.93   |  0.97  |   0.95   | 24888.00 |\n",
      "|      micro avg       |    0.92   |  0.92  |   0.92   | 30000.00 |\n",
      "|      macro avg       |    0.87   |  0.81  |   0.84   | 30000.00 |\n",
      "|     weighted avg     |    0.91   |  0.92  |   0.91   | 30000.00 |\n",
      "+----------------------+-----------+--------+----------+----------+\n"
     ]
    },
    {
     "data": {
      "image/png": "[encoded data removed]",
      "text/plain": [
       "<Figure size 432x288 with 2 Axes>"
      ]
     },
     "metadata": {
      "needs_background": "light"
     },
     "output_type": "display_data"
    },
    {
     "name": "stdout",
     "output_type": "stream",
     "text": [
      "\n",
      "+-------------------------------------------------+\n",
      "|             Confusion Matrix Report             |\n",
      "+----------------------------------------+--------+\n",
      "|                  Term                  | Value  |\n",
      "+----------------------------------------+--------+\n",
      "|           TP (True Positive)           | 24063  |\n",
      "|           TN (True Negative)           |  3389  |\n",
      "|          FP (False Positive)           |  1723  |\n",
      "|          FN (False Negative)           |  825   |\n",
      "| TPR (True Positive Rate)= TP/(TP+FN))  |  0.97  |\n",
      "| TNR (True Negative Rate)= TN/(TN+FP))  |  0.66  |\n",
      "| FPR (False Positive Rate)= FP/(FP+TN)) |  0.34  |\n",
      "| FNR (False Negative Rate)= FN/(TP+FN)) |  0.03  |\n",
      "| ACC (Accuracy)= (TP+TN)/(TP+FP+FN+TN)) | 91.51% |\n",
      "+----------------------------------------+--------+\n",
      "\n",
      "\n",
      "Wall time: 2h 15min 14s\n"
     ]
    }
   ],
   "source": [
    "%%time\n",
    "\n",
    "# Randomized search cross Validation on bow\n",
    "rscv = RandomizedSearchCV(SVC(kernel='rbf'), \n",
    "                    scoring=\"accuracy\",\n",
    "                    param_distributions=parameters,                    \n",
    "                    cv = TimeSeriesSplit(n_splits=2),\n",
    "                    verbose=1, \n",
    "                    n_jobs=-1)\n",
    "# Fit the model\n",
    "rscv.fit(x_train_matrix,Y_TRAIN)\n",
    "\n",
    "print(\"Best Hyperparameter 'C' : \",rscv.best_params_.get('C'))\n",
    "print(\"Best Hyperparameter 'Gamma' : \",rscv.best_params_.get('gamma'))\n",
    "print(\"Accuracy on BoW : %.2f%%\"%(rscv.best_score_*100))\n",
    "\n",
    "# Perform performance meausre,plot and draw reports.\n",
    "performance_measure(rscv,x_train_matrix,x_test_matrix)"
   ]
  },
  {
   "cell_type": "markdown",
   "metadata": {},
   "source": [
    "#### (2.2) Term Frequency - Inverse Document Frequency (TF-IDF) :"
   ]
  },
  {
   "cell_type": "code",
   "execution_count": 16,
   "metadata": {
    "scrolled": true
   },
   "outputs": [
    {
     "name": "stdout",
     "output_type": "stream",
     "text": [
      "\n",
      "The type of count vectorizer  <class 'scipy.sparse.csr.csr_matrix'>\n",
      "The shape of train matrix  (70000, 166323)\n",
      "The number of unique words in train matrix  166323\n",
      "Wall time: 12.4 s\n"
     ]
    }
   ],
   "source": [
    "%%time\n",
    "\n",
    "# Instantiate TfidfVectorizer\n",
    "tfidf_vectorizer = TfidfVectorizer(min_df = 3,ngram_range=(1,2))\n",
    "\n",
    "# Tokenize and build vocab\n",
    "tfidf_vectorizer.fit(X_TRAIN)\n",
    "\n",
    "# Encode document\n",
    "x_train_matrix = tfidf_vectorizer.transform(X_TRAIN)\n",
    "x_test_matrix = tfidf_vectorizer.transform(X_TEST)\n",
    "\n",
    "print(\"\\nThe type of count vectorizer \",type(x_train_matrix))\n",
    "print(\"The shape of train matrix \",x_train_matrix.get_shape())\n",
    "print(\"The number of unique words in train matrix \", x_train_matrix.get_shape()[1])\n",
    "\n",
    "# Data Normalization\n",
    "x_train_matrix = preprocessing.normalize(x_train_matrix)\n",
    "x_test_matrix = preprocessing.normalize(x_test_matrix)"
   ]
  },
  {
   "cell_type": "code",
   "execution_count": 17,
   "metadata": {
    "scrolled": false
   },
   "outputs": [
    {
     "name": "stdout",
     "output_type": "stream",
     "text": [
      "Fitting 3 folds for each of 36 candidates, totalling 108 fits\n"
     ]
    },
    {
     "name": "stderr",
     "output_type": "stream",
     "text": [
      "[Parallel(n_jobs=-1)]: Using backend LokyBackend with 6 concurrent workers.\n",
      "[Parallel(n_jobs=-1)]: Done  38 tasks      | elapsed: 143.6min\n",
      "[Parallel(n_jobs=-1)]: Done 108 out of 108 | elapsed: 736.9min finished\n"
     ]
    },
    {
     "name": "stdout",
     "output_type": "stream",
     "text": [
      "Best Hyperparameter 'C' :  32\n",
      "Best Hyperparameter 'Gamma' :  0.03125\n",
      "Accuracy on TF-IDF : 91.90%\n",
      "-------------------------- GridSearchCV --------------------------\n",
      "\n",
      "+--------------------------------------------------------------------------+\n",
      "|                               GridSearchCV                               |\n",
      "+--------------------+------------------------+----------+------+----------+\n",
      "| Hyperparameter (C) | Hyperparameter (gamma) | Scoring  | Mean | Variance |\n",
      "+--------------------+------------------------+----------+------+----------+\n",
      "|      0.03125       |        0.03125         | Accuracy | 0.84 |   0.02   |\n",
      "|      0.03125       |         0.125          | Accuracy | 0.84 |   0.02   |\n",
      "|      0.03125       |          0.5           | Accuracy | 0.84 |   0.02   |\n",
      "|      0.03125       |           2            | Accuracy | 0.84 |   0.02   |\n",
      "|      0.03125       |           8            | Accuracy | 0.84 |   0.02   |\n",
      "|      0.03125       |           32           | Accuracy | 0.84 |   0.02   |\n",
      "|       0.125        |        0.03125         | Accuracy | 0.84 |   0.02   |\n",
      "|       0.125        |         0.125          | Accuracy | 0.84 |   0.02   |\n",
      "|       0.125        |          0.5           | Accuracy | 0.84 |   0.02   |\n",
      "|       0.125        |           2            | Accuracy | 0.84 |   0.02   |\n",
      "|       0.125        |           8            | Accuracy | 0.84 |   0.02   |\n",
      "|       0.125        |           32           | Accuracy | 0.84 |   0.02   |\n",
      "|        0.5         |        0.03125         | Accuracy | 0.84 |   0.02   |\n",
      "|        0.5         |         0.125          | Accuracy | 0.85 |   0.02   |\n",
      "|        0.5         |          0.5           | Accuracy | 0.87 |   0.03   |\n",
      "|        0.5         |           2            | Accuracy | 0.85 |   0.02   |\n",
      "|        0.5         |           8            | Accuracy | 0.84 |   0.02   |\n",
      "|        0.5         |           32           | Accuracy | 0.84 |   0.02   |\n",
      "|         2          |        0.03125         | Accuracy | 0.85 |   0.02   |\n",
      "|         2          |         0.125          | Accuracy | 0.89 |   0.03   |\n",
      "|         2          |          0.5           | Accuracy | 0.91 |   0.01   |\n",
      "|         2          |           2            | Accuracy | 0.87 |   0.02   |\n",
      "|         2          |           8            | Accuracy | 0.84 |   0.02   |\n",
      "|         2          |           32           | Accuracy | 0.84 |   0.02   |\n",
      "|         8          |        0.03125         | Accuracy | 0.90 |   0.03   |\n",
      "|         8          |         0.125          | Accuracy | 0.92 |   0.01   |\n",
      "|         8          |          0.5           | Accuracy | 0.92 |   0.01   |\n",
      "|         8          |           2            | Accuracy | 0.87 |   0.02   |\n",
      "|         8          |           8            | Accuracy | 0.84 |   0.02   |\n",
      "|         8          |           32           | Accuracy | 0.84 |   0.02   |\n",
      "|         32         |        0.03125         | Accuracy | 0.92 |   0.01   |\n",
      "|         32         |         0.125          | Accuracy | 0.92 |   0.01   |\n",
      "|         32         |          0.5           | Accuracy | 0.92 |   0.01   |\n",
      "|         32         |           2            | Accuracy | 0.87 |   0.02   |\n",
      "|         32         |           8            | Accuracy | 0.84 |   0.02   |\n",
      "|         32         |           32           | Accuracy | 0.84 |   0.02   |\n",
      "+--------------------+------------------------+----------+------+----------+\n",
      "\n",
      "+----------------------------------------------------------------------------------------------+\n",
      "|                       Optimal hyperparameter & Testing accuracy score                        |\n",
      "+------------------+----------------------------+--------------------------------+-------------+\n",
      "| Cross Validation | Optimal Hyperparameter (C) | Optimal Hyperparameter (gamma) | Accuracy(%) |\n",
      "+------------------+----------------------------+--------------------------------+-------------+\n",
      "|   GridSearchCV   |             32             |            0.03125             |    91.90    |\n",
      "+------------------+----------------------------+--------------------------------+-------------+\n",
      "\n",
      "+-----------------------------------------------------------------+\n",
      "|      Classification Report with C = 32 and Gamma = 0.03125      |\n",
      "+----------------------+-----------+--------+----------+----------+\n",
      "| Class Lable/Averages | Precision | Recall | F1-Score | Support  |\n",
      "+----------------------+-----------+--------+----------+----------+\n",
      "|       negative       |    0.83   |  0.69  |   0.75   | 5112.00  |\n",
      "|       positive       |    0.94   |  0.97  |   0.95   | 24888.00 |\n",
      "|      micro avg       |    0.92   |  0.92  |   0.92   | 30000.00 |\n",
      "|      macro avg       |    0.88   |  0.83  |   0.85   | 30000.00 |\n",
      "|     weighted avg     |    0.92   |  0.92  |   0.92   | 30000.00 |\n",
      "+----------------------+-----------+--------+----------+----------+\n"
     ]
    },
    {
     "data": {
      "image/png": "[encoded data removed]",
      "text/plain": [
       "<Figure size 432x288 with 2 Axes>"
      ]
     },
     "metadata": {
      "needs_background": "light"
     },
     "output_type": "display_data"
    },
    {
     "name": "stdout",
     "output_type": "stream",
     "text": [
      "\n",
      "+-------------------------------------------------+\n",
      "|             Confusion Matrix Report             |\n",
      "+----------------------------------------+--------+\n",
      "|                  Term                  | Value  |\n",
      "+----------------------------------------+--------+\n",
      "|           TP (True Positive)           | 24152  |\n",
      "|           TN (True Negative)           |  3518  |\n",
      "|          FP (False Positive)           |  1594  |\n",
      "|          FN (False Negative)           |  736   |\n",
      "| TPR (True Positive Rate)= TP/(TP+FN))  |  0.97  |\n",
      "| TNR (True Negative Rate)= TN/(TN+FP))  |  0.69  |\n",
      "| FPR (False Positive Rate)= FP/(FP+TN)) |  0.31  |\n",
      "| FNR (False Negative Rate)= FN/(TP+FN)) |  0.03  |\n",
      "| ACC (Accuracy)= (TP+TN)/(TP+FP+FN+TN)) | 92.23% |\n",
      "+----------------------------------------+--------+\n",
      "\n",
      "\n",
      "Wall time: 13h 8min 15s\n"
     ]
    }
   ],
   "source": [
    "%%time\n",
    "\n",
    "# Grid search cross Validation on bow\n",
    "gscv = GridSearchCV(SVC(kernel='rbf'), \n",
    "                    scoring=\"accuracy\",\n",
    "                    param_grid=parameters,                    \n",
    "                    cv = TimeSeriesSplit(n_splits=3),\n",
    "                    verbose=1, \n",
    "                    n_jobs=-1)\n",
    "# Fit the model\n",
    "gscv.fit(x_train_matrix,Y_TRAIN)\n",
    "\n",
    "print(\"Best Hyperparameter 'C' : \",gscv.best_params_.get('C'))\n",
    "print(\"Best Hyperparameter 'Gamma' : \",gscv.best_params_.get('gamma'))\n",
    "print(\"Accuracy on TF-IDF : %.2f%%\"%(gscv.best_score_*100))\n",
    "\n",
    "# Perform performance meausre,plot and draw reports.\n",
    "performance_measure(gscv,x_train_matrix,x_test_matrix)"
   ]
  },
  {
   "cell_type": "code",
   "execution_count": 18,
   "metadata": {
    "scrolled": false
   },
   "outputs": [
    {
     "name": "stdout",
     "output_type": "stream",
     "text": [
      "Fitting 3 folds for each of 10 candidates, totalling 30 fits\n"
     ]
    },
    {
     "name": "stderr",
     "output_type": "stream",
     "text": [
      "[Parallel(n_jobs=-1)]: Using backend LokyBackend with 6 concurrent workers.\n",
      "[Parallel(n_jobs=-1)]: Done  30 out of  30 | elapsed: 146.9min finished\n"
     ]
    },
    {
     "name": "stdout",
     "output_type": "stream",
     "text": [
      "Best Hyperparameter 'C' :  32\n",
      "Best Hyperparameter 'Gamma' :  0.125\n",
      "Accuracy on TF-IDF : 91.82%\n",
      "-------------------------- RandomizedSearchCV --------------------------\n",
      "\n",
      "+--------------------------------------------------------------------------+\n",
      "|                            RandomizedSearchCV                            |\n",
      "+--------------------+------------------------+----------+------+----------+\n",
      "| Hyperparameter (C) | Hyperparameter (gamma) | Scoring  | Mean | Variance |\n",
      "+--------------------+------------------------+----------+------+----------+\n",
      "|       0.125        |         0.125          | Accuracy | 0.84 |   0.02   |\n",
      "|        0.5         |           2            | Accuracy | 0.85 |   0.02   |\n",
      "|        0.5         |         0.125          | Accuracy | 0.85 |   0.02   |\n",
      "|        0.5         |           32           | Accuracy | 0.84 |   0.02   |\n",
      "|       0.125        |          0.5           | Accuracy | 0.84 |   0.02   |\n",
      "|      0.03125       |           2            | Accuracy | 0.84 |   0.02   |\n",
      "|         32         |         0.125          | Accuracy | 0.92 |   0.01   |\n",
      "|      0.03125       |        0.03125         | Accuracy | 0.84 |   0.02   |\n",
      "|       0.125        |        0.03125         | Accuracy | 0.84 |   0.02   |\n",
      "|         2          |        0.03125         | Accuracy | 0.85 |   0.02   |\n",
      "+--------------------+------------------------+----------+------+----------+\n",
      "\n",
      "+------------------------------------------------------------------------------------------------+\n",
      "|                        Optimal hyperparameter & Testing accuracy score                         |\n",
      "+--------------------+----------------------------+--------------------------------+-------------+\n",
      "|  Cross Validation  | Optimal Hyperparameter (C) | Optimal Hyperparameter (gamma) | Accuracy(%) |\n",
      "+--------------------+----------------------------+--------------------------------+-------------+\n",
      "| RandomizedSearchCV |             32             |             0.125              |    91.82    |\n",
      "+--------------------+----------------------------+--------------------------------+-------------+\n",
      "\n",
      "+-----------------------------------------------------------------+\n",
      "|       Classification Report with C = 32 and Gamma = 0.125       |\n",
      "+----------------------+-----------+--------+----------+----------+\n",
      "| Class Lable/Averages | Precision | Recall | F1-Score | Support  |\n",
      "+----------------------+-----------+--------+----------+----------+\n",
      "|       negative       |    0.81   |  0.69  |   0.74   | 5112.00  |\n",
      "|       positive       |    0.94   |  0.97  |   0.95   | 24888.00 |\n",
      "|      micro avg       |    0.92   |  0.92  |   0.92   | 30000.00 |\n",
      "|      macro avg       |    0.87   |  0.83  |   0.85   | 30000.00 |\n",
      "|     weighted avg     |    0.92   |  0.92  |   0.92   | 30000.00 |\n",
      "+----------------------+-----------+--------+----------+----------+\n"
     ]
    },
    {
     "data": {
      "image/png": "[encoded data removed]",
      "text/plain": [
       "<Figure size 432x288 with 2 Axes>"
      ]
     },
     "metadata": {
      "needs_background": "light"
     },
     "output_type": "display_data"
    },
    {
     "name": "stdout",
     "output_type": "stream",
     "text": [
      "\n",
      "+-------------------------------------------------+\n",
      "|             Confusion Matrix Report             |\n",
      "+----------------------------------------+--------+\n",
      "|                  Term                  | Value  |\n",
      "+----------------------------------------+--------+\n",
      "|           TP (True Positive)           | 24066  |\n",
      "|           TN (True Negative)           |  3519  |\n",
      "|          FP (False Positive)           |  1593  |\n",
      "|          FN (False Negative)           |  822   |\n",
      "| TPR (True Positive Rate)= TP/(TP+FN))  |  0.97  |\n",
      "| TNR (True Negative Rate)= TN/(TN+FP))  |  0.69  |\n",
      "| FPR (False Positive Rate)= FP/(FP+TN)) |  0.31  |\n",
      "| FNR (False Negative Rate)= FN/(TP+FN)) |  0.03  |\n",
      "| ACC (Accuracy)= (TP+TN)/(TP+FP+FN+TN)) | 91.95% |\n",
      "+----------------------------------------+--------+\n",
      "\n",
      "\n",
      "Wall time: 3h 28min 47s\n"
     ]
    }
   ],
   "source": [
    "%%time\n",
    "\n",
    "# Randomized search cross Validation on bow\n",
    "rscv = RandomizedSearchCV(SVC(kernel='rbf'), \n",
    "                    scoring=\"accuracy\",\n",
    "                    param_distributions=parameters,                    \n",
    "                    cv = TimeSeriesSplit(n_splits=3),\n",
    "                    verbose=1, \n",
    "                    n_jobs=-1)\n",
    "# Fit the model\n",
    "rscv.fit(x_train_matrix,Y_TRAIN)\n",
    "\n",
    "print(\"Best Hyperparameter 'C' : \",rscv.best_params_.get('C'))\n",
    "print(\"Best Hyperparameter 'Gamma' : \",rscv.best_params_.get('gamma'))\n",
    "print(\"Accuracy on TF-IDF : %.2f%%\"%(rscv.best_score_*100))\n",
    "\n",
    "# Perform performance meausre,plot and draw reports.\n",
    "performance_measure(rscv,x_train_matrix,x_test_matrix)"
   ]
  },
  {
   "cell_type": "markdown",
   "metadata": {},
   "source": [
    "#### (2.3) Average Word2Vec :"
   ]
  },
  {
   "cell_type": "code",
   "execution_count": 19,
   "metadata": {
    "scrolled": true
   },
   "outputs": [
    {
     "name": "stdout",
     "output_type": "stream",
     "text": [
      "Shape of training data :  (70000,)\n",
      "Shape of testing data :  (30000,)\n",
      "Number of sentences present in training data :  70000\n",
      "Number of sentences present in testing data :  30000\n",
      "Length of vocabulary :  13820\n"
     ]
    },
    {
     "name": "stderr",
     "output_type": "stream",
     "text": [
      "Average Word2Vec - Train data: 100%|████████████████████████████████████| 70000/70000 [01:04<00:00, 1085.17 sentence/s]\n",
      "Average Word2Vec - Test data: 100%|█████████████████████████████████████| 30000/30000 [00:28<00:00, 1292.74 sentence/s]\n"
     ]
    },
    {
     "name": "stdout",
     "output_type": "stream",
     "text": [
      "\n",
      "Shape of training vectorizer :  (70000, 100)\n",
      "Shape of testing vectorizer :  (30000, 100)\n",
      "Wall time: 1min 38s\n"
     ]
    }
   ],
   "source": [
    "%%time\n",
    "\n",
    "# Create our own Word2Vec model from training data.\n",
    "        \n",
    "# Make list of list from training data\n",
    "list_of_sentences_in_train=[]\n",
    "for sentence in X_TRAIN:\n",
    "    list_of_sentences_in_train.append(sentence.split())\n",
    "            \n",
    "# Make list of list from testing data - this will be useful when vectorizing testing data.\n",
    "list_of_sentences_in_test=[]\n",
    "for sentence in X_TEST:\n",
    "    list_of_sentences_in_test.append(sentence.split())\n",
    "            \n",
    "print(\"Shape of training data : \",X_TRAIN.shape)\n",
    "print(\"Shape of testing data : \",X_TEST.shape)\n",
    "print(\"Number of sentences present in training data : \",len(list_of_sentences_in_train))\n",
    "print(\"Number of sentences present in testing data : \",len(list_of_sentences_in_test))\n",
    "        \n",
    "# Generate model\n",
    "w2v_model = Word2Vec(list_of_sentences_in_train,min_count=3,size=100, workers=6)\n",
    "        \n",
    "# List of word in vocabulary \n",
    "w2v_words = list(w2v_model.wv.vocab)\n",
    "print(\"Length of vocabulary : \",len(w2v_words))\n",
    "\n",
    "# Prepare train vectorizer using trained word2vec model\n",
    "train_list = []\n",
    "for sentence in tqdm(list_of_sentences_in_train,unit=\" sentence\",desc='Average Word2Vec - Train data'):\n",
    "    word_2_vec = np.zeros(100)\n",
    "    cnt_words = 0\n",
    "    for word in sentence:\n",
    "        if word in w2v_words:\n",
    "            vec = w2v_model.wv[word]\n",
    "            word_2_vec += vec\n",
    "            cnt_words += 1\n",
    "    if cnt_words != 0 :\n",
    "        word_2_vec /= cnt_words\n",
    "    train_list.append(word_2_vec)\n",
    "        \n",
    "# Prepare test vectorizer using trained word2vec model\n",
    "test_list = []\n",
    "for sentence in tqdm(list_of_sentences_in_test,unit=\" sentence\",desc='Average Word2Vec - Test data'):\n",
    "    word_2_vec = np.zeros(100)\n",
    "    cnt_words = 0\n",
    "    for word in sentence:\n",
    "        if word in w2v_words:\n",
    "            vec = w2v_model.wv[word]\n",
    "            word_2_vec += vec\n",
    "            cnt_words += 1\n",
    "    if cnt_words != 0 :\n",
    "        word_2_vec /= cnt_words\n",
    "    test_list.append(word_2_vec)\n",
    "            \n",
    "avg_w2v_train = np.array(train_list)\n",
    "avg_w2v_test = np.array(test_list)\n",
    "           \n",
    "\n",
    "print(\"\\nShape of training vectorizer : \",avg_w2v_train.shape)\n",
    "print(\"Shape of testing vectorizer : \",avg_w2v_test.shape)"
   ]
  },
  {
   "cell_type": "code",
   "execution_count": 20,
   "metadata": {
    "scrolled": false
   },
   "outputs": [
    {
     "name": "stdout",
     "output_type": "stream",
     "text": [
      "Fitting 3 folds for each of 36 candidates, totalling 108 fits\n"
     ]
    },
    {
     "name": "stderr",
     "output_type": "stream",
     "text": [
      "[Parallel(n_jobs=-1)]: Using backend LokyBackend with 6 concurrent workers.\n",
      "[Parallel(n_jobs=-1)]: Done  38 tasks      | elapsed: 85.3min\n",
      "[Parallel(n_jobs=-1)]: Done 108 out of 108 | elapsed: 404.0min finished\n"
     ]
    },
    {
     "name": "stdout",
     "output_type": "stream",
     "text": [
      "Best Hyperparameter 'C' :  8\n",
      "Best Hyperparameter 'Gamma' :  0.03125\n",
      "Accuracy on TF-IDF : 90.36%\n",
      "-------------------------- GridSearchCV --------------------------\n",
      "\n",
      "+--------------------------------------------------------------------------+\n",
      "|                               GridSearchCV                               |\n",
      "+--------------------+------------------------+----------+------+----------+\n",
      "| Hyperparameter (C) | Hyperparameter (gamma) | Scoring  | Mean | Variance |\n",
      "+--------------------+------------------------+----------+------+----------+\n",
      "|      0.03125       |        0.03125         | Accuracy | 0.85 |   0.02   |\n",
      "|      0.03125       |         0.125          | Accuracy | 0.85 |   0.02   |\n",
      "|      0.03125       |          0.5           | Accuracy | 0.84 |   0.02   |\n",
      "|      0.03125       |           2            | Accuracy | 0.84 |   0.02   |\n",
      "|      0.03125       |           8            | Accuracy | 0.84 |   0.02   |\n",
      "|      0.03125       |           32           | Accuracy | 0.84 |   0.02   |\n",
      "|       0.125        |        0.03125         | Accuracy | 0.88 |   0.02   |\n",
      "|       0.125        |         0.125          | Accuracy | 0.88 |   0.01   |\n",
      "|       0.125        |          0.5           | Accuracy | 0.85 |   0.02   |\n",
      "|       0.125        |           2            | Accuracy | 0.84 |   0.02   |\n",
      "|       0.125        |           8            | Accuracy | 0.84 |   0.02   |\n",
      "|       0.125        |           32           | Accuracy | 0.84 |   0.02   |\n",
      "|        0.5         |        0.03125         | Accuracy | 0.89 |   0.01   |\n",
      "|        0.5         |         0.125          | Accuracy | 0.90 |   0.01   |\n",
      "|        0.5         |          0.5           | Accuracy | 0.86 |   0.01   |\n",
      "|        0.5         |           2            | Accuracy | 0.84 |   0.02   |\n",
      "|        0.5         |           8            | Accuracy | 0.84 |   0.02   |\n",
      "|        0.5         |           32           | Accuracy | 0.84 |   0.02   |\n",
      "|         2          |        0.03125         | Accuracy | 0.90 |   0.01   |\n",
      "|         2          |         0.125          | Accuracy | 0.90 |   0.01   |\n",
      "|         2          |          0.5           | Accuracy | 0.88 |   0.01   |\n",
      "|         2          |           2            | Accuracy | 0.84 |   0.02   |\n",
      "|         2          |           8            | Accuracy | 0.84 |   0.02   |\n",
      "|         2          |           32           | Accuracy | 0.84 |   0.02   |\n",
      "|         8          |        0.03125         | Accuracy | 0.90 |   0.01   |\n",
      "|         8          |         0.125          | Accuracy | 0.90 |   0.01   |\n",
      "|         8          |          0.5           | Accuracy | 0.88 |   0.01   |\n",
      "|         8          |           2            | Accuracy | 0.84 |   0.02   |\n",
      "|         8          |           8            | Accuracy | 0.84 |   0.02   |\n",
      "|         8          |           32           | Accuracy | 0.84 |   0.02   |\n",
      "|         32         |        0.03125         | Accuracy | 0.90 |   0.01   |\n",
      "|         32         |         0.125          | Accuracy | 0.89 |   0.01   |\n",
      "|         32         |          0.5           | Accuracy | 0.88 |   0.01   |\n",
      "|         32         |           2            | Accuracy | 0.84 |   0.02   |\n",
      "|         32         |           8            | Accuracy | 0.84 |   0.02   |\n",
      "|         32         |           32           | Accuracy | 0.84 |   0.02   |\n",
      "+--------------------+------------------------+----------+------+----------+\n",
      "\n",
      "+----------------------------------------------------------------------------------------------+\n",
      "|                       Optimal hyperparameter & Testing accuracy score                        |\n",
      "+------------------+----------------------------+--------------------------------+-------------+\n",
      "| Cross Validation | Optimal Hyperparameter (C) | Optimal Hyperparameter (gamma) | Accuracy(%) |\n",
      "+------------------+----------------------------+--------------------------------+-------------+\n",
      "|   GridSearchCV   |             8              |            0.03125             |    90.36    |\n",
      "+------------------+----------------------------+--------------------------------+-------------+\n",
      "\n",
      "+-----------------------------------------------------------------+\n",
      "|       Classification Report with C = 8 and Gamma = 0.03125      |\n",
      "+----------------------+-----------+--------+----------+----------+\n",
      "| Class Lable/Averages | Precision | Recall | F1-Score | Support  |\n",
      "+----------------------+-----------+--------+----------+----------+\n",
      "|       negative       |    0.80   |  0.56  |   0.66   | 5112.00  |\n",
      "|       positive       |    0.91   |  0.97  |   0.94   | 24888.00 |\n",
      "|      micro avg       |    0.90   |  0.90  |   0.90   | 30000.00 |\n",
      "|      macro avg       |    0.86   |  0.76  |   0.80   | 30000.00 |\n",
      "|     weighted avg     |    0.89   |  0.90  |   0.89   | 30000.00 |\n",
      "+----------------------+-----------+--------+----------+----------+\n"
     ]
    },
    {
     "data": {
      "image/png": "[encoded data removed]",
      "text/plain": [
       "<Figure size 432x288 with 2 Axes>"
      ]
     },
     "metadata": {
      "needs_background": "light"
     },
     "output_type": "display_data"
    },
    {
     "name": "stdout",
     "output_type": "stream",
     "text": [
      "\n",
      "+-------------------------------------------------+\n",
      "|             Confusion Matrix Report             |\n",
      "+----------------------------------------+--------+\n",
      "|                  Term                  | Value  |\n",
      "+----------------------------------------+--------+\n",
      "|           TP (True Positive)           | 24167  |\n",
      "|           TN (True Negative)           |  2855  |\n",
      "|          FP (False Positive)           |  2257  |\n",
      "|          FN (False Negative)           |  721   |\n",
      "| TPR (True Positive Rate)= TP/(TP+FN))  |  0.97  |\n",
      "| TNR (True Negative Rate)= TN/(TN+FP))  |  0.56  |\n",
      "| FPR (False Positive Rate)= FP/(FP+TN)) |  0.44  |\n",
      "| FNR (False Negative Rate)= FN/(TP+FN)) |  0.03  |\n",
      "| ACC (Accuracy)= (TP+TN)/(TP+FP+FN+TN)) | 90.07% |\n",
      "+----------------------------------------+--------+\n",
      "\n",
      "\n",
      "Wall time: 6h 52min 46s\n"
     ]
    }
   ],
   "source": [
    "%%time\n",
    "\n",
    "# Grid search cross Validation on bow\n",
    "gscv = GridSearchCV(SVC(kernel='rbf'), \n",
    "                    scoring=\"accuracy\",\n",
    "                    param_grid=parameters,                    \n",
    "                    cv = TimeSeriesSplit(n_splits=3),\n",
    "                    verbose=1, \n",
    "                    n_jobs=-1)\n",
    "# Fit the model\n",
    "gscv.fit(avg_w2v_train,Y_TRAIN)\n",
    "\n",
    "print(\"Best Hyperparameter 'C' : \",gscv.best_params_.get('C'))\n",
    "print(\"Best Hyperparameter 'Gamma' : \",gscv.best_params_.get('gamma'))\n",
    "print(\"Accuracy on TF-IDF : %.2f%%\"%(gscv.best_score_*100))\n",
    "\n",
    "# Perform performance meausre,plot and draw reports.\n",
    "performance_measure(gscv,avg_w2v_train,avg_w2v_test)"
   ]
  },
  {
   "cell_type": "code",
   "execution_count": 21,
   "metadata": {
    "scrolled": false
   },
   "outputs": [
    {
     "name": "stdout",
     "output_type": "stream",
     "text": [
      "Fitting 3 folds for each of 10 candidates, totalling 30 fits\n"
     ]
    },
    {
     "name": "stderr",
     "output_type": "stream",
     "text": [
      "[Parallel(n_jobs=-1)]: Using backend LokyBackend with 6 concurrent workers.\n",
      "[Parallel(n_jobs=-1)]: Done  30 out of  30 | elapsed: 100.6min finished\n"
     ]
    },
    {
     "name": "stdout",
     "output_type": "stream",
     "text": [
      "Best Hyperparameter 'C' :  8\n",
      "Best Hyperparameter 'Gamma' :  0.03125\n",
      "Accuracy on TF-IDF : 90.36%\n",
      "-------------------------- RandomizedSearchCV --------------------------\n",
      "\n",
      "+--------------------------------------------------------------------------+\n",
      "|                            RandomizedSearchCV                            |\n",
      "+--------------------+------------------------+----------+------+----------+\n",
      "| Hyperparameter (C) | Hyperparameter (gamma) | Scoring  | Mean | Variance |\n",
      "+--------------------+------------------------+----------+------+----------+\n",
      "|       0.125        |         0.125          | Accuracy | 0.88 |   0.01   |\n",
      "|       0.125        |        0.03125         | Accuracy | 0.88 |   0.02   |\n",
      "|        0.5         |           8            | Accuracy | 0.84 |   0.02   |\n",
      "|         8          |         0.125          | Accuracy | 0.90 |   0.01   |\n",
      "|      0.03125       |          0.5           | Accuracy | 0.84 |   0.02   |\n",
      "|         2          |           8            | Accuracy | 0.84 |   0.02   |\n",
      "|        0.5         |           32           | Accuracy | 0.84 |   0.02   |\n",
      "|        0.5         |           2            | Accuracy | 0.84 |   0.02   |\n",
      "|      0.03125       |           8            | Accuracy | 0.84 |   0.02   |\n",
      "|         8          |        0.03125         | Accuracy | 0.90 |   0.01   |\n",
      "+--------------------+------------------------+----------+------+----------+\n",
      "\n",
      "+------------------------------------------------------------------------------------------------+\n",
      "|                        Optimal hyperparameter & Testing accuracy score                         |\n",
      "+--------------------+----------------------------+--------------------------------+-------------+\n",
      "|  Cross Validation  | Optimal Hyperparameter (C) | Optimal Hyperparameter (gamma) | Accuracy(%) |\n",
      "+--------------------+----------------------------+--------------------------------+-------------+\n",
      "| RandomizedSearchCV |             8              |            0.03125             |    90.36    |\n",
      "+--------------------+----------------------------+--------------------------------+-------------+\n",
      "\n",
      "+-----------------------------------------------------------------+\n",
      "|       Classification Report with C = 8 and Gamma = 0.03125      |\n",
      "+----------------------+-----------+--------+----------+----------+\n",
      "| Class Lable/Averages | Precision | Recall | F1-Score | Support  |\n",
      "+----------------------+-----------+--------+----------+----------+\n",
      "|       negative       |    0.80   |  0.56  |   0.66   | 5112.00  |\n",
      "|       positive       |    0.91   |  0.97  |   0.94   | 24888.00 |\n",
      "|      micro avg       |    0.90   |  0.90  |   0.90   | 30000.00 |\n",
      "|      macro avg       |    0.86   |  0.76  |   0.80   | 30000.00 |\n",
      "|     weighted avg     |    0.89   |  0.90  |   0.89   | 30000.00 |\n",
      "+----------------------+-----------+--------+----------+----------+\n"
     ]
    },
    {
     "data": {
      "image/png": "[encoded data removed]",
      "text/plain": [
       "<Figure size 432x288 with 2 Axes>"
      ]
     },
     "metadata": {
      "needs_background": "light"
     },
     "output_type": "display_data"
    },
    {
     "name": "stdout",
     "output_type": "stream",
     "text": [
      "\n",
      "+-------------------------------------------------+\n",
      "|             Confusion Matrix Report             |\n",
      "+----------------------------------------+--------+\n",
      "|                  Term                  | Value  |\n",
      "+----------------------------------------+--------+\n",
      "|           TP (True Positive)           | 24167  |\n",
      "|           TN (True Negative)           |  2855  |\n",
      "|          FP (False Positive)           |  2257  |\n",
      "|          FN (False Negative)           |  721   |\n",
      "| TPR (True Positive Rate)= TP/(TP+FN))  |  0.97  |\n",
      "| TNR (True Negative Rate)= TN/(TN+FP))  |  0.56  |\n",
      "| FPR (False Positive Rate)= FP/(FP+TN)) |  0.44  |\n",
      "| FNR (False Negative Rate)= FN/(TP+FN)) |  0.03  |\n",
      "| ACC (Accuracy)= (TP+TN)/(TP+FP+FN+TN)) | 90.07% |\n",
      "+----------------------------------------+--------+\n",
      "\n",
      "\n",
      "Wall time: 1h 50min 2s\n"
     ]
    }
   ],
   "source": [
    "%%time\n",
    "\n",
    "# Randomized search cross Validation on bow\n",
    "rscv = RandomizedSearchCV(SVC(kernel='rbf'), \n",
    "                    scoring=\"accuracy\",\n",
    "                    param_distributions=parameters,                    \n",
    "                    cv = TimeSeriesSplit(n_splits=3),\n",
    "                    verbose=1, \n",
    "                    n_jobs=-1)\n",
    "# Fit the model\n",
    "rscv.fit(avg_w2v_train,Y_TRAIN)\n",
    "\n",
    "print(\"Best Hyperparameter 'C' : \",rscv.best_params_.get('C'))\n",
    "print(\"Best Hyperparameter 'Gamma' : \",rscv.best_params_.get('gamma'))\n",
    "print(\"Accuracy on TF-IDF : %.2f%%\"%(rscv.best_score_*100))\n",
    "\n",
    "# Perform performance meausre,plot and draw reports.\n",
    "performance_measure(rscv,avg_w2v_train,avg_w2v_test)"
   ]
  },
  {
   "cell_type": "markdown",
   "metadata": {},
   "source": [
    "#### (2.4) Term Frequency - Inverse Document Frequency Weighted Word2Vec(TF-IDF Word2Vec) :"
   ]
  },
  {
   "cell_type": "code",
   "execution_count": 22,
   "metadata": {
    "scrolled": true
   },
   "outputs": [
    {
     "name": "stderr",
     "output_type": "stream",
     "text": [
      "TF-IDF Weighted Word2Vec - Train data: 100%|████████████████████████████| 70000/70000 [00:19<00:00, 3566.54 sentence/s]\n",
      "TF-IDF Weighted Word2Vec - Test data: 100%|█████████████████████████████| 30000/30000 [00:08<00:00, 3453.16 sentence/s]\n"
     ]
    },
    {
     "name": "stdout",
     "output_type": "stream",
     "text": [
      "\n",
      "Shape of training vectorizer :  (70000, 100)\n",
      "Shape of testing vectorizer :  (30000, 100)\n",
      "Wall time: 46.6 s\n"
     ]
    }
   ],
   "source": [
    "%%time\n",
    "\n",
    "# Make list of list from training data.      \n",
    "sentences_in_train=[]\n",
    "for sentence in X_TRAIN:\n",
    "    sentences_in_train.append(sentence.split())\n",
    "\n",
    "# Make list of list from testing data - this will be useful when vectorizing testing data.\n",
    "sentences_in_test=[]\n",
    "for sentence in X_TEST:\n",
    "    sentences_in_test.append(sentence.split())\n",
    "            \n",
    "# Generate model\n",
    "w2v_model = Word2Vec(sentences_in_train,min_count=3,size=100, workers=6)\n",
    "\n",
    "# Instantiate TfidfVectorizer\n",
    "tfidf_vectorizer = TfidfVectorizer(min_df = 3,ngram_range=(1,2))\n",
    "\n",
    "# Tokenize and build vocab\n",
    "tfidf_vectorizer.fit(X_TRAIN)\n",
    "\n",
    "# Encode document\n",
    "x_train_matrix = tfidf_vectorizer.transform(X_TRAIN)\n",
    "\n",
    "# Get feature names\n",
    "feature_names = tfidf_vectorizer.get_feature_names()\n",
    "\n",
    "# Dictionary with word as a key, and the idf as a value\n",
    "dict_word_idf = dict(zip(feature_names, list(tfidf_vectorizer.idf_)))\n",
    "\n",
    "# Prepare train vectorizer using trained word2vec model        \n",
    "train_list = []\n",
    "row = 0\n",
    "for sentence in tqdm(sentences_in_train,unit=\" sentence\",desc='TF-IDF Weighted Word2Vec - Train data'):\n",
    "    word_2_vec = np.zeros(100)\n",
    "    weight_tfidf_sum = 0\n",
    "    for word in sentence:\n",
    "        try:\n",
    "            vec = w2v_model.wv[word]\n",
    "            # dict_word_idf[word] = idf value of word in whole courpus\n",
    "            # sentence.count(word) = tf valeus of word in this review\n",
    "            tfidf_value =  dict_word_idf[word]*sentence.count(word)\n",
    "            word_2_vec += (vec * tfidf_value)\n",
    "            weight_tfidf_sum += tfidf_value\n",
    "        except:\n",
    "            pass\n",
    "    if weight_tfidf_sum != 0:\n",
    "        word_2_vec /= weight_tfidf_sum\n",
    "    train_list.append(word_2_vec)\n",
    "    row += 1\n",
    "        \n",
    "# Prepare test vectorizer using trained word2vec model\n",
    "test_list = []\n",
    "row = 0\n",
    "for sentence in tqdm(sentences_in_test, unit=\" sentence\",desc='TF-IDF Weighted Word2Vec - Test data'):\n",
    "    word_2_vec = np.zeros(100)\n",
    "    weight_tfidf_sum = 0\n",
    "    for word in sentence:\n",
    "        try:\n",
    "            vec = w2v_model.wv[word]\n",
    "            # dict_word_idf[word] = idf value of word in whole courpus\n",
    "            # sentence.count(word) = tf valeus of word in this review\n",
    "            tfidf_value =  dict_word_idf[word]*sentence.count(word)\n",
    "            word_2_vec += (vec * tfidf_value)\n",
    "            weight_tfidf_sum += tfidf_value\n",
    "        except:\n",
    "            pass\n",
    "    if weight_tfidf_sum != 0:\n",
    "        word_2_vec /= weight_tfidf_sum\n",
    "    test_list.append(word_2_vec)\n",
    "    row += 1\n",
    "        \n",
    "tfidf_w2v_train = np.array(train_list)\n",
    "tfidf_w2v_test = np.array(test_list)\n",
    "\n",
    "\n",
    "print(\"\\nShape of training vectorizer : \",tfidf_w2v_train.shape)\n",
    "print(\"Shape of testing vectorizer : \",tfidf_w2v_test.shape)"
   ]
  },
  {
   "cell_type": "code",
   "execution_count": 23,
   "metadata": {
    "scrolled": false
   },
   "outputs": [
    {
     "name": "stdout",
     "output_type": "stream",
     "text": [
      "Fitting 3 folds for each of 36 candidates, totalling 108 fits\n"
     ]
    },
    {
     "name": "stderr",
     "output_type": "stream",
     "text": [
      "[Parallel(n_jobs=-1)]: Using backend LokyBackend with 6 concurrent workers.\n",
      "[Parallel(n_jobs=-1)]: Done  38 tasks      | elapsed: 88.9min\n",
      "[Parallel(n_jobs=-1)]: Done 108 out of 108 | elapsed: 418.5min finished\n"
     ]
    },
    {
     "name": "stdout",
     "output_type": "stream",
     "text": [
      "Best Hyperparameter 'C' :  8\n",
      "Best Hyperparameter 'Gamma' :  0.03125\n",
      "Accuracy on TF-IDF Weighted Word2Vec : 89.40%\n",
      "-------------------------- GridSearchCV --------------------------\n",
      "\n",
      "+--------------------------------------------------------------------------+\n",
      "|                               GridSearchCV                               |\n",
      "+--------------------+------------------------+----------+------+----------+\n",
      "| Hyperparameter (C) | Hyperparameter (gamma) | Scoring  | Mean | Variance |\n",
      "+--------------------+------------------------+----------+------+----------+\n",
      "|      0.03125       |        0.03125         | Accuracy | 0.85 |   0.02   |\n",
      "|      0.03125       |         0.125          | Accuracy | 0.85 |   0.02   |\n",
      "|      0.03125       |          0.5           | Accuracy | 0.84 |   0.02   |\n",
      "|      0.03125       |           2            | Accuracy | 0.84 |   0.02   |\n",
      "|      0.03125       |           8            | Accuracy | 0.84 |   0.02   |\n",
      "|      0.03125       |           32           | Accuracy | 0.84 |   0.02   |\n",
      "|       0.125        |        0.03125         | Accuracy | 0.86 |   0.01   |\n",
      "|       0.125        |         0.125          | Accuracy | 0.86 |   0.01   |\n",
      "|       0.125        |          0.5           | Accuracy | 0.85 |   0.02   |\n",
      "|       0.125        |           2            | Accuracy | 0.84 |   0.02   |\n",
      "|       0.125        |           8            | Accuracy | 0.84 |   0.02   |\n",
      "|       0.125        |           32           | Accuracy | 0.84 |   0.02   |\n",
      "|        0.5         |        0.03125         | Accuracy | 0.88 |   0.01   |\n",
      "|        0.5         |         0.125          | Accuracy | 0.88 |   0.01   |\n",
      "|        0.5         |          0.5           | Accuracy | 0.85 |   0.02   |\n",
      "|        0.5         |           2            | Accuracy | 0.84 |   0.02   |\n",
      "|        0.5         |           8            | Accuracy | 0.84 |   0.02   |\n",
      "|        0.5         |           32           | Accuracy | 0.84 |   0.02   |\n",
      "|         2          |        0.03125         | Accuracy | 0.89 |   0.01   |\n",
      "|         2          |         0.125          | Accuracy | 0.89 |   0.01   |\n",
      "|         2          |          0.5           | Accuracy | 0.87 |   0.01   |\n",
      "|         2          |           2            | Accuracy | 0.84 |   0.02   |\n",
      "|         2          |           8            | Accuracy | 0.84 |   0.02   |\n",
      "|         2          |           32           | Accuracy | 0.84 |   0.02   |\n",
      "|         8          |        0.03125         | Accuracy | 0.89 |   0.01   |\n",
      "|         8          |         0.125          | Accuracy | 0.89 |   0.01   |\n",
      "|         8          |          0.5           | Accuracy | 0.87 |   0.01   |\n",
      "|         8          |           2            | Accuracy | 0.84 |   0.02   |\n",
      "|         8          |           8            | Accuracy | 0.84 |   0.02   |\n",
      "|         8          |           32           | Accuracy | 0.84 |   0.02   |\n",
      "|         32         |        0.03125         | Accuracy | 0.89 |   0.01   |\n",
      "|         32         |         0.125          | Accuracy | 0.88 |   0.01   |\n",
      "|         32         |          0.5           | Accuracy | 0.87 |   0.01   |\n",
      "|         32         |           2            | Accuracy | 0.84 |   0.02   |\n",
      "|         32         |           8            | Accuracy | 0.84 |   0.02   |\n",
      "|         32         |           32           | Accuracy | 0.84 |   0.02   |\n",
      "+--------------------+------------------------+----------+------+----------+\n",
      "\n",
      "+----------------------------------------------------------------------------------------------+\n",
      "|                       Optimal hyperparameter & Testing accuracy score                        |\n",
      "+------------------+----------------------------+--------------------------------+-------------+\n",
      "| Cross Validation | Optimal Hyperparameter (C) | Optimal Hyperparameter (gamma) | Accuracy(%) |\n",
      "+------------------+----------------------------+--------------------------------+-------------+\n",
      "|   GridSearchCV   |             8              |            0.03125             |    89.40    |\n",
      "+------------------+----------------------------+--------------------------------+-------------+\n",
      "\n",
      "+-----------------------------------------------------------------+\n",
      "|       Classification Report with C = 8 and Gamma = 0.03125      |\n",
      "+----------------------+-----------+--------+----------+----------+\n",
      "| Class Lable/Averages | Precision | Recall | F1-Score | Support  |\n",
      "+----------------------+-----------+--------+----------+----------+\n",
      "|       negative       |    0.78   |  0.49  |   0.60   | 5112.00  |\n",
      "|       positive       |    0.90   |  0.97  |   0.94   | 24888.00 |\n",
      "|      micro avg       |    0.89   |  0.89  |   0.89   | 30000.00 |\n",
      "|      macro avg       |    0.84   |  0.73  |   0.77   | 30000.00 |\n",
      "|     weighted avg     |    0.88   |  0.89  |   0.88   | 30000.00 |\n",
      "+----------------------+-----------+--------+----------+----------+\n"
     ]
    },
    {
     "data": {
      "image/png": "[encoded data removed]",
      "text/plain": [
       "<Figure size 432x288 with 2 Axes>"
      ]
     },
     "metadata": {
      "needs_background": "light"
     },
     "output_type": "display_data"
    },
    {
     "name": "stdout",
     "output_type": "stream",
     "text": [
      "\n",
      "+-------------------------------------------------+\n",
      "|             Confusion Matrix Report             |\n",
      "+----------------------------------------+--------+\n",
      "|                  Term                  | Value  |\n",
      "+----------------------------------------+--------+\n",
      "|           TP (True Positive)           | 24194  |\n",
      "|           TN (True Negative)           |  2501  |\n",
      "|          FP (False Positive)           |  2611  |\n",
      "|          FN (False Negative)           |  694   |\n",
      "| TPR (True Positive Rate)= TP/(TP+FN))  |  0.97  |\n",
      "| TNR (True Negative Rate)= TN/(TN+FP))  |  0.49  |\n",
      "| FPR (False Positive Rate)= FP/(FP+TN)) |  0.51  |\n",
      "| FNR (False Negative Rate)= FN/(TP+FN)) |  0.03  |\n",
      "| ACC (Accuracy)= (TP+TN)/(TP+FP+FN+TN)) | 88.98% |\n",
      "+----------------------------------------+--------+\n",
      "\n",
      "\n",
      "Wall time: 7h 9min 14s\n"
     ]
    }
   ],
   "source": [
    "%%time\n",
    "\n",
    "# Grid search cross Validation on bow\n",
    "gscv = GridSearchCV(SVC(kernel='rbf'), \n",
    "                    scoring=\"accuracy\",\n",
    "                    param_grid=parameters,                    \n",
    "                    cv = TimeSeriesSplit(n_splits=3),\n",
    "                    verbose=1, \n",
    "                    n_jobs=-1)\n",
    "# Fit the model\n",
    "gscv.fit(tfidf_w2v_train,Y_TRAIN)\n",
    "\n",
    "print(\"Best Hyperparameter 'C' : \",gscv.best_params_.get('C'))\n",
    "print(\"Best Hyperparameter 'Gamma' : \",gscv.best_params_.get('gamma'))\n",
    "print(\"Accuracy on TF-IDF Weighted Word2Vec : %.2f%%\"%(gscv.best_score_*100))\n",
    "\n",
    "# Perform performance meausre,plot and draw reports.\n",
    "performance_measure(gscv,tfidf_w2v_train,tfidf_w2v_test)"
   ]
  },
  {
   "cell_type": "code",
   "execution_count": 24,
   "metadata": {
    "scrolled": false
   },
   "outputs": [
    {
     "name": "stdout",
     "output_type": "stream",
     "text": [
      "Fitting 3 folds for each of 10 candidates, totalling 30 fits\n"
     ]
    },
    {
     "name": "stderr",
     "output_type": "stream",
     "text": [
      "[Parallel(n_jobs=-1)]: Using backend LokyBackend with 6 concurrent workers.\n",
      "[Parallel(n_jobs=-1)]: Done  30 out of  30 | elapsed: 147.3min finished\n"
     ]
    },
    {
     "name": "stdout",
     "output_type": "stream",
     "text": [
      "Best Hyperparameter 'C' :  8\n",
      "Best Hyperparameter 'Gamma' :  0.125\n",
      "Accuracy on TF-IDF : 88.66%\n",
      "-------------------------- RandomizedSearchCV --------------------------\n",
      "\n",
      "+--------------------------------------------------------------------------+\n",
      "|                            RandomizedSearchCV                            |\n",
      "+--------------------+------------------------+----------+------+----------+\n",
      "| Hyperparameter (C) | Hyperparameter (gamma) | Scoring  | Mean | Variance |\n",
      "+--------------------+------------------------+----------+------+----------+\n",
      "|        0.5         |           2            | Accuracy | 0.84 |   0.02   |\n",
      "|         8          |           32           | Accuracy | 0.84 |   0.02   |\n",
      "|         8          |           2            | Accuracy | 0.84 |   0.02   |\n",
      "|      0.03125       |         0.125          | Accuracy | 0.85 |   0.02   |\n",
      "|         32         |           8            | Accuracy | 0.84 |   0.02   |\n",
      "|       0.125        |        0.03125         | Accuracy | 0.86 |   0.01   |\n",
      "|         2          |           8            | Accuracy | 0.84 |   0.02   |\n",
      "|      0.03125       |           2            | Accuracy | 0.84 |   0.02   |\n",
      "|         8          |         0.125          | Accuracy | 0.89 |   0.01   |\n",
      "|       0.125        |           32           | Accuracy | 0.84 |   0.02   |\n",
      "+--------------------+------------------------+----------+------+----------+\n",
      "\n",
      "+------------------------------------------------------------------------------------------------+\n",
      "|                        Optimal hyperparameter & Testing accuracy score                         |\n",
      "+--------------------+----------------------------+--------------------------------+-------------+\n",
      "|  Cross Validation  | Optimal Hyperparameter (C) | Optimal Hyperparameter (gamma) | Accuracy(%) |\n",
      "+--------------------+----------------------------+--------------------------------+-------------+\n",
      "| RandomizedSearchCV |             8              |             0.125              |    88.66    |\n",
      "+--------------------+----------------------------+--------------------------------+-------------+\n",
      "\n",
      "+-----------------------------------------------------------------+\n",
      "|        Classification Report with C = 8 and Gamma = 0.125       |\n",
      "+----------------------+-----------+--------+----------+----------+\n",
      "| Class Lable/Averages | Precision | Recall | F1-Score | Support  |\n",
      "+----------------------+-----------+--------+----------+----------+\n",
      "|       negative       |    0.71   |  0.53  |   0.61   | 5112.00  |\n",
      "|       positive       |    0.91   |  0.96  |   0.93   | 24888.00 |\n",
      "|      micro avg       |    0.88   |  0.88  |   0.88   | 30000.00 |\n",
      "|      macro avg       |    0.81   |  0.74  |   0.77   | 30000.00 |\n",
      "|     weighted avg     |    0.88   |  0.88  |   0.88   | 30000.00 |\n",
      "+----------------------+-----------+--------+----------+----------+\n"
     ]
    },
    {
     "data": {
      "image/png": "[encoded data removed]",
      "text/plain": [
       "<Figure size 432x288 with 2 Axes>"
      ]
     },
     "metadata": {
      "needs_background": "light"
     },
     "output_type": "display_data"
    },
    {
     "name": "stdout",
     "output_type": "stream",
     "text": [
      "\n",
      "+-------------------------------------------------+\n",
      "|             Confusion Matrix Report             |\n",
      "+----------------------------------------+--------+\n",
      "|                  Term                  | Value  |\n",
      "+----------------------------------------+--------+\n",
      "|           TP (True Positive)           | 23791  |\n",
      "|           TN (True Negative)           |  2715  |\n",
      "|          FP (False Positive)           |  2397  |\n",
      "|          FN (False Negative)           |  1097  |\n",
      "| TPR (True Positive Rate)= TP/(TP+FN))  |  0.96  |\n",
      "| TNR (True Negative Rate)= TN/(TN+FP))  |  0.53  |\n",
      "| FPR (False Positive Rate)= FP/(FP+TN)) |  0.47  |\n",
      "| FNR (False Negative Rate)= FN/(TP+FN)) |  0.04  |\n",
      "| ACC (Accuracy)= (TP+TN)/(TP+FP+FN+TN)) | 88.35% |\n",
      "+----------------------------------------+--------+\n",
      "\n",
      "\n",
      "Wall time: 3h 41s\n"
     ]
    }
   ],
   "source": [
    "%%time\n",
    "\n",
    "# Randomized search cross Validation on bow\n",
    "rscv = RandomizedSearchCV(SVC(kernel='rbf'), \n",
    "                    scoring=\"accuracy\",\n",
    "                    param_distributions=parameters,                    \n",
    "                    cv = TimeSeriesSplit(n_splits=3),\n",
    "                    verbose=1, \n",
    "                    n_jobs=-1)\n",
    "# Fit the model\n",
    "rscv.fit(tfidf_w2v_train,Y_TRAIN)\n",
    "\n",
    "print(\"Best Hyperparameter 'C' : \",rscv.best_params_.get('C'))\n",
    "print(\"Best Hyperparameter 'Gamma' : \",rscv.best_params_.get('gamma'))\n",
    "print(\"Accuracy on TF-IDF : %.2f%%\"%(rscv.best_score_*100))\n",
    "\n",
    "# Perform performance meausre,plot and draw reports.\n",
    "performance_measure(rscv,tfidf_w2v_train,tfidf_w2v_test)"
   ]
  },
  {
   "cell_type": "markdown",
   "metadata": {},
   "source": [
    "---\n",
    "### Conclusion :\n",
    "---"
   ]
  },
  {
   "cell_type": "code",
   "execution_count": 25,
   "metadata": {
    "scrolled": true
   },
   "outputs": [
    {
     "name": "stdout",
     "output_type": "stream",
     "text": [
      "+----------------------------------------------------------------------------------------------------------------------------+\n",
      "|                                                *** Conclusion - RBF-SVC ***                                                |\n",
      "+--------------------+------------------------+--------------------+-----------------------+--------------------+------------+\n",
      "|         CV         |         Model          | Hyperparameter 'C' | Hyperparameter 'gamma |    Train Error     | Test Error |\n",
      "+--------------------+------------------------+--------------------+-----------------------+--------------------+------------+\n",
      "|    GridSearchCV    |      BOW:RBF-SVC       |         32         |          0.5          |        0.0%        |    8.0%    |\n",
      "| RandomizedSearchCV |      BOW:RBF-SVC       |         32         |          0.5          |        0.0%        |    8.0%    |\n",
      "|    GridSearchCV    |     TFIDF:RBF-SVC      |         32         |        0.03125        |        1.0%        |    8.0%    |\n",
      "| RandomizedSearchCV |     TFIDF:RBF-SVC      |         32         |         0.125         |        0.0%        |   10.0%    |\n",
      "|    GridSearchCV    |  AVG-WORD2VEC:RBF-SVC  |         8          |        0.03125        | 7.000000000000001% |   10.0%    |\n",
      "| RandomizedSearchCV |  AVG-WORD2VEC:RBF-SVC  |         8          |        0.03125        | 7.000000000000001% |   10.0%    |\n",
      "|    GridSearchCV    | TFIDF-WORD2VEC:RBF-SVC |         8          |        0.03125        | 7.000000000000001% |   11.0%    |\n",
      "| RandomizedSearchCV | TFIDF-WORD2VEC:RBF-SVC |         8          |         0.125         |        1.0%        |   12.0%    |\n",
      "+--------------------+------------------------+--------------------+-----------------------+--------------------+------------+\n"
     ]
    }
   ],
   "source": [
    "conclude_RBF_SVC()"
   ]
  },
  {
   "cell_type": "markdown",
   "metadata": {},
   "source": [
    "### (3) Linear SVM :\n"
   ]
  },
  {
   "cell_type": "code",
   "execution_count": 26,
   "metadata": {
    "scrolled": true
   },
   "outputs": [
    {
     "name": "stdout",
     "output_type": "stream",
     "text": [
      "Dataset Shape : \n",
      " (351237, 11)\n",
      "\n",
      "Column Names: \n",
      " Index(['Id', 'ProductId', 'UserId', 'ProfileName', 'HelpfulnessNumerator',\n",
      "       'HelpfulnessDenominator', 'Score', 'Time', 'Summary', 'Text',\n",
      "       'CleanedText'],\n",
      "      dtype='object')\n",
      "\n",
      "Target Class label : \n",
      "positive    297807\n",
      "negative     53430\n",
      "Name: Score, dtype: int64\n",
      "\n"
     ]
    }
   ],
   "source": [
    "# Load dataset ~ 364K\n",
    "reviews_df = joblib.load('reviews_364k.joblib')\n",
    "\n",
    "# Convert timestamp to datetime.\n",
    "reviews_df['Time'] = reviews_df[['Time']].applymap(lambda x: dt.datetime.fromtimestamp(x))\n",
    "\n",
    "# Sort the data on the basis of time.\n",
    "reviews_df = reviews_df.sort_values(by=['Time'])\n",
    "\n",
    "print(\"Dataset Shape : \\n\",reviews_df.shape)\n",
    "print(\"\\nColumn Names: \\n\",reviews_df.columns)\n",
    "print(\"\\nTarget Class label : \")\n",
    "print(reviews_df['Score'].value_counts())\n",
    "print()   \n",
    "    \n",
    "\n",
    "# Split data into train and test\n",
    "X_TRAIN, X_TEST, Y_TRAIN, Y_TEST = train_test_split(reviews_df['CleanedText'].values,\n",
    "                                                    reviews_df['Score'].values,\n",
    "                                                    test_size=0.3,\n",
    "                                                    shuffle=False,\n",
    "                                                    random_state=0)\n"
   ]
  },
  {
   "cell_type": "code",
   "execution_count": 27,
   "metadata": {
    "scrolled": true
   },
   "outputs": [],
   "source": [
    "# hyperparameter gamma\n",
    "list_alpha = []\n",
    "\n",
    "# Training Error\n",
    "train_error = []\n",
    "\n",
    "# Test Error\n",
    "test_error = []\n",
    "\n",
    "#parameters for SGDClassifer's alpha.\n",
    "param_grid = {'alpha':[500,100,50,10,5,1,0.5,0.1,0.05,0.01,0.005,0.001,0.0005,0.0001,0.00005,0.00001]}"
   ]
  },
  {
   "cell_type": "code",
   "execution_count": 28,
   "metadata": {},
   "outputs": [],
   "source": [
    "# Instantiate SGDClassifier\n",
    "sgdClassifier = SGDClassifier(loss=\"hinge\",\n",
    "                             penalty=\"l2\",                            \n",
    "                             max_iter = 2000,\n",
    "                             tol = 0.0001,\n",
    "                             shuffle = True,                             \n",
    "                             n_jobs = -1,\n",
    "                             learning_rate = \"optimal\",\n",
    "                             class_weight =\"balanced\")"
   ]
  },
  {
   "cell_type": "markdown",
   "metadata": {},
   "source": [
    "#### (3.1) Bag of Words (BoW) :"
   ]
  },
  {
   "cell_type": "code",
   "execution_count": 29,
   "metadata": {
    "scrolled": true
   },
   "outputs": [
    {
     "name": "stdout",
     "output_type": "stream",
     "text": [
      "\n",
      "The type of count vectorizer  <class 'scipy.sparse.csr.csr_matrix'>\n",
      "The shape of train matrix  (245865, 74398)\n",
      "The number of unique words in train matrix  74398\n",
      "Wall time: 15.2 s\n"
     ]
    }
   ],
   "source": [
    "%%time\n",
    "\n",
    "# Instantiate CountVectorizer\n",
    "bow_count_vectorizer = CountVectorizer()\n",
    "\n",
    "# Tokenize and build vocab\n",
    "bow_count_vectorizer.fit(X_TRAIN)\n",
    "\n",
    "# Encode document\n",
    "x_train_matrix = bow_count_vectorizer.transform(X_TRAIN)\n",
    "x_test_matrix = bow_count_vectorizer.transform(X_TEST)\n",
    "\n",
    "print(\"\\nThe type of count vectorizer \",type(x_train_matrix))\n",
    "print(\"The shape of train matrix \",x_train_matrix.get_shape())\n",
    "print(\"The number of unique words in train matrix \", x_train_matrix.get_shape()[1])\n",
    "\n",
    "# Data Normalization\n",
    "x_train_matrix = preprocessing.normalize(x_train_matrix)\n",
    "x_test_matrix = preprocessing.normalize(x_test_matrix)"
   ]
  },
  {
   "cell_type": "code",
   "execution_count": 30,
   "metadata": {
    "scrolled": false
   },
   "outputs": [
    {
     "name": "stdout",
     "output_type": "stream",
     "text": [
      "Fitting 5 folds for each of 16 candidates, totalling 80 fits\n"
     ]
    },
    {
     "name": "stderr",
     "output_type": "stream",
     "text": [
      "[Parallel(n_jobs=-1)]: Using backend LokyBackend with 6 concurrent workers.\n",
      "[Parallel(n_jobs=-1)]: Done   1 tasks      | elapsed:    1.7s\n",
      "[Parallel(n_jobs=-1)]: Done  38 tasks      | elapsed:    9.4s\n",
      "[Parallel(n_jobs=-1)]: Done  80 out of  80 | elapsed:   22.0s finished\n"
     ]
    },
    {
     "name": "stdout",
     "output_type": "stream",
     "text": [
      "\n",
      "Best HyperParameter:  1e-05\n",
      "Best Accuracy on Train Data: 87.53%\n",
      "Wall time: 24.6 s\n"
     ]
    }
   ],
   "source": [
    "%%time\n",
    "\n",
    "# Instantiate GridSearchCV and perform 5-fold cross validation\n",
    "gscv = GridSearchCV(sgdClassifier,\n",
    "                    param_grid = param_grid,\n",
    "                    cv = TimeSeriesSplit(n_splits=5),\n",
    "                    n_jobs = -1,\n",
    "                    verbose = 6)\n",
    "\n",
    "# Fit the model\n",
    "gscv.fit(x_train_matrix,Y_TRAIN)\n",
    "\n",
    "optimal_alpha = gscv.best_params_.get('alpha')\n",
    "list_alpha.append(optimal_alpha)\n",
    "\n",
    "print() \n",
    "print(\"Best HyperParameter: \",optimal_alpha)\n",
    "print(\"Best Accuracy on Train Data: %.2f%%\"%(gscv.best_score_*100))"
   ]
  },
  {
   "cell_type": "code",
   "execution_count": 31,
   "metadata": {
    "scrolled": true
   },
   "outputs": [
    {
     "data": {
      "text/plain": [
       "SGDClassifier(alpha=1e-05, average=False, class_weight='balanced',\n",
       "       early_stopping=False, epsilon=0.1, eta0=0.0, fit_intercept=True,\n",
       "       l1_ratio=0.15, learning_rate='optimal', loss='hinge', max_iter=2000,\n",
       "       n_iter=None, n_iter_no_change=5, n_jobs=-1, penalty='l2',\n",
       "       power_t=0.5, random_state=None, shuffle=True, tol=0.0001,\n",
       "       validation_fraction=0.1, verbose=0, warm_start=False)"
      ]
     },
     "execution_count": 31,
     "metadata": {},
     "output_type": "execute_result"
    }
   ],
   "source": [
    "# Get estimator back with best parameters\n",
    "classifier = gscv.best_estimator_\n",
    "\n",
    "classifier"
   ]
  },
  {
   "cell_type": "code",
   "execution_count": 32,
   "metadata": {
    "scrolled": false
   },
   "outputs": [
    {
     "name": "stdout",
     "output_type": "stream",
     "text": [
      "\n",
      "+------------------------------------------------------------------+\n",
      "|             Classification Report with alpha = 1e-05             |\n",
      "+----------------------+-----------+--------+----------+-----------+\n",
      "| Class Lable/Averages | Precision | Recall | F1-Score |  Support  |\n",
      "+----------------------+-----------+--------+----------+-----------+\n",
      "|       negative       |    0.59   |  0.88  |   0.71   |  17838.00 |\n",
      "|       positive       |    0.97   |  0.88  |   0.92   |  87534.00 |\n",
      "|      micro avg       |    0.88   |  0.88  |   0.88   | 105372.00 |\n",
      "|      macro avg       |    0.78   |  0.88  |   0.82   | 105372.00 |\n",
      "|     weighted avg     |    0.91   |  0.88  |   0.89   | 105372.00 |\n",
      "+----------------------+-----------+--------+----------+-----------+\n",
      "\n",
      "\n",
      "Accuracy on Test Data: 87.82%\n",
      "\n",
      "\n",
      "--------------- Confusion Matrix of Test Data ---------------\n"
     ]
    },
    {
     "data": {
      "text/plain": [
       "<matplotlib.axes._subplots.AxesSubplot at 0x1abcf781668>"
      ]
     },
     "execution_count": 32,
     "metadata": {},
     "output_type": "execute_result"
    },
    {
     "data": {
      "image/png": "[encoded data removed]",
      "text/plain": [
       "<Figure size 432x288 with 2 Axes>"
      ]
     },
     "metadata": {},
     "output_type": "display_data"
    }
   ],
   "source": [
    "predicted_y_train = classifier.predict(x_train_matrix)\n",
    "predicted_y_test = classifier.predict(x_test_matrix)\n",
    "\n",
    "print()          \n",
    "ptable = PrettyTable()\n",
    "ptable.title = \"Classification Report with alpha = {0}\".format(optimal_alpha)\n",
    "ptable.field_names = [\"Class Lable/Averages\",\"Precision\", \"Recall\",\"F1-Score\",\"Support\"]\n",
    "report_dict = classification_report(Y_TEST, predicted_y_test,output_dict = True)\n",
    "for key , value in report_dict.items():        \n",
    "    inner_dict = value        \n",
    "    ptable.add_row([key,\n",
    "                    \"{0:.2f}\".format(inner_dict['precision']),\n",
    "                    \"{0:.2f}\".format(inner_dict['recall']),\n",
    "                    \"{0:.2f}\".format(inner_dict['f1-score']),\n",
    "                    \"{0:.2f}\".format(inner_dict['support'])])\n",
    "            \n",
    "print(ptable)\n",
    "print()\n",
    "print()\n",
    "\n",
    "train_accuracy = accuracy_score(Y_TRAIN,predicted_y_train)\n",
    "train_error.append(1-train_accuracy) \n",
    "\n",
    "test_accuracy = accuracy_score(Y_TEST,predicted_y_test)\n",
    "test_error.append(1-test_accuracy) \n",
    "\n",
    "print(\"Accuracy on Test Data: %0.2f%%\"%(test_accuracy*100))\n",
    "print()\n",
    "print()\n",
    "print(\"--------------- Confusion Matrix of Test Data ---------------\")\n",
    "sns.set(font_scale=1.4)\n",
    "sns.heatmap(pd.DataFrame(confusion_matrix(Y_TEST, predicted_y_test), range(2),range(2)), \n",
    "            annot=True,\n",
    "            annot_kws={\"size\": 14}, \n",
    "            fmt='g')"
   ]
  },
  {
   "cell_type": "markdown",
   "metadata": {},
   "source": [
    "#### (3.2) Term Frequency - Inverse Document Frequency (TF-IDF) :"
   ]
  },
  {
   "cell_type": "code",
   "execution_count": 33,
   "metadata": {
    "scrolled": true
   },
   "outputs": [
    {
     "name": "stdout",
     "output_type": "stream",
     "text": [
      "\n",
      "The type of count vectorizer  <class 'scipy.sparse.csr.csr_matrix'>\n",
      "The shape of train matrix  (245865, 487621)\n",
      "The number of unique words in train matrix  487621\n",
      "Wall time: 45.2 s\n"
     ]
    }
   ],
   "source": [
    "%%time\n",
    "\n",
    "# Instantiate TfidfVectorizer\n",
    "tfidf_vectorizer = TfidfVectorizer(min_df = 3,ngram_range=(1,2))\n",
    "\n",
    "# Tokenize and build vocab\n",
    "tfidf_vectorizer.fit(X_TRAIN)\n",
    "\n",
    "# Encode document\n",
    "x_train_matrix = tfidf_vectorizer.transform(X_TRAIN)\n",
    "x_test_matrix = tfidf_vectorizer.transform(X_TEST)\n",
    "\n",
    "print(\"\\nThe type of count vectorizer \",type(x_train_matrix))\n",
    "print(\"The shape of train matrix \",x_train_matrix.get_shape())\n",
    "print(\"The number of unique words in train matrix \", x_train_matrix.get_shape()[1])\n",
    "\n",
    "# Data Normalization\n",
    "x_train_matrix = preprocessing.normalize(x_train_matrix)\n",
    "x_test_matrix = preprocessing.normalize(x_test_matrix)"
   ]
  },
  {
   "cell_type": "code",
   "execution_count": 34,
   "metadata": {
    "scrolled": false
   },
   "outputs": [
    {
     "name": "stdout",
     "output_type": "stream",
     "text": [
      "Fitting 5 folds for each of 16 candidates, totalling 80 fits\n"
     ]
    },
    {
     "name": "stderr",
     "output_type": "stream",
     "text": [
      "[Parallel(n_jobs=-1)]: Using backend LokyBackend with 6 concurrent workers.\n",
      "[Parallel(n_jobs=-1)]: Done   1 tasks      | elapsed:    1.2s\n",
      "[Parallel(n_jobs=-1)]: Done  38 tasks      | elapsed:   15.4s\n",
      "[Parallel(n_jobs=-1)]: Done  80 out of  80 | elapsed:   46.1s finished\n"
     ]
    },
    {
     "name": "stdout",
     "output_type": "stream",
     "text": [
      "\n",
      "Best HyperParameter:  1e-05\n",
      "Best Accuracy on Train Data: 92.32%\n",
      "Wall time: 50.9 s\n"
     ]
    }
   ],
   "source": [
    "%%time\n",
    "\n",
    "# Instantiate GridSearchCV and perform 5-fold cross validation\n",
    "gscv = GridSearchCV(sgdClassifier,\n",
    "                    param_grid = param_grid,\n",
    "                    cv = TimeSeriesSplit(n_splits=5),\n",
    "                    n_jobs = -1,\n",
    "                    verbose = 6)\n",
    "\n",
    "# Fit the model\n",
    "gscv.fit(x_train_matrix,Y_TRAIN)\n",
    "\n",
    "optimal_alpha = gscv.best_params_.get('alpha')\n",
    "list_alpha.append(optimal_alpha)\n",
    "\n",
    "print() \n",
    "print(\"Best HyperParameter: \",optimal_alpha)\n",
    "print(\"Best Accuracy on Train Data: %.2f%%\"%(gscv.best_score_*100))"
   ]
  },
  {
   "cell_type": "code",
   "execution_count": 35,
   "metadata": {
    "scrolled": true
   },
   "outputs": [
    {
     "data": {
      "text/plain": [
       "SGDClassifier(alpha=1e-05, average=False, class_weight='balanced',\n",
       "       early_stopping=False, epsilon=0.1, eta0=0.0, fit_intercept=True,\n",
       "       l1_ratio=0.15, learning_rate='optimal', loss='hinge', max_iter=2000,\n",
       "       n_iter=None, n_iter_no_change=5, n_jobs=-1, penalty='l2',\n",
       "       power_t=0.5, random_state=None, shuffle=True, tol=0.0001,\n",
       "       validation_fraction=0.1, verbose=0, warm_start=False)"
      ]
     },
     "execution_count": 35,
     "metadata": {},
     "output_type": "execute_result"
    }
   ],
   "source": [
    "# Get estimator back with best parameters\n",
    "classifier = gscv.best_estimator_\n",
    "\n",
    "classifier"
   ]
  },
  {
   "cell_type": "code",
   "execution_count": 36,
   "metadata": {},
   "outputs": [
    {
     "name": "stdout",
     "output_type": "stream",
     "text": [
      "\n",
      "+------------------------------------------------------------------+\n",
      "|             Classification Report with alpha = 1e-05             |\n",
      "+----------------------+-----------+--------+----------+-----------+\n",
      "| Class Lable/Averages | Precision | Recall | F1-Score |  Support  |\n",
      "+----------------------+-----------+--------+----------+-----------+\n",
      "|       negative       |    0.69   |  0.88  |   0.77   |  17838.00 |\n",
      "|       positive       |    0.97   |  0.92  |   0.95   |  87534.00 |\n",
      "|      micro avg       |    0.91   |  0.91  |   0.91   | 105372.00 |\n",
      "|      macro avg       |    0.83   |  0.90  |   0.86   | 105372.00 |\n",
      "|     weighted avg     |    0.93   |  0.91  |   0.92   | 105372.00 |\n",
      "+----------------------+-----------+--------+----------+-----------+\n",
      "\n",
      "\n",
      "Accuracy on Test Data: 91.36%\n",
      "\n",
      "\n",
      "--------------- Confusion Matrix of Test Data ---------------\n"
     ]
    },
    {
     "data": {
      "text/plain": [
       "<matplotlib.axes._subplots.AxesSubplot at 0x1ac06f9feb8>"
      ]
     },
     "execution_count": 36,
     "metadata": {},
     "output_type": "execute_result"
    },
    {
     "data": {
      "image/png": "[encoded data removed]",
      "text/plain": [
       "<Figure size 432x288 with 2 Axes>"
      ]
     },
     "metadata": {},
     "output_type": "display_data"
    }
   ],
   "source": [
    "predicted_y_train = classifier.predict(x_train_matrix)\n",
    "predicted_y_test = classifier.predict(x_test_matrix)\n",
    "\n",
    "print()          \n",
    "ptable = PrettyTable()\n",
    "ptable.title = \"Classification Report with alpha = {0}\".format(optimal_alpha)\n",
    "ptable.field_names = [\"Class Lable/Averages\",\"Precision\", \"Recall\",\"F1-Score\",\"Support\"]\n",
    "report_dict = classification_report(Y_TEST, predicted_y_test,output_dict = True)\n",
    "for key , value in report_dict.items():        \n",
    "    inner_dict = value        \n",
    "    ptable.add_row([key,\n",
    "                    \"{0:.2f}\".format(inner_dict['precision']),\n",
    "                    \"{0:.2f}\".format(inner_dict['recall']),\n",
    "                    \"{0:.2f}\".format(inner_dict['f1-score']),\n",
    "                    \"{0:.2f}\".format(inner_dict['support'])])\n",
    "            \n",
    "print(ptable)\n",
    "print()\n",
    "print()\n",
    "\n",
    "train_accuracy =  accuracy_score(Y_TRAIN,predicted_y_train)\n",
    "train_error.append(1-train_accuracy) \n",
    "\n",
    "test_accuracy =  accuracy_score(Y_TEST,predicted_y_test)\n",
    "test_error.append(1-test_accuracy) \n",
    "\n",
    "print(\"Accuracy on Test Data: %0.2f%%\"%(test_accuracy*100))\n",
    "print()\n",
    "print()\n",
    "print(\"--------------- Confusion Matrix of Test Data ---------------\")\n",
    "sns.set(font_scale=1.4)\n",
    "sns.heatmap(pd.DataFrame(confusion_matrix(Y_TEST, predicted_y_test), range(2),range(2)), \n",
    "            annot=True,\n",
    "            annot_kws={\"size\": 14}, \n",
    "            fmt='g')"
   ]
  },
  {
   "cell_type": "markdown",
   "metadata": {},
   "source": [
    "#### (3.3) Average Word2Vec :"
   ]
  },
  {
   "cell_type": "code",
   "execution_count": 37,
   "metadata": {
    "scrolled": true
   },
   "outputs": [
    {
     "name": "stdout",
     "output_type": "stream",
     "text": [
      "Shape of training data :  (245865,)\n",
      "Shape of testing data :  (105372,)\n",
      "Number of sentences present in training data :  245865\n",
      "Number of sentences present in testing data :  105372\n",
      "Length of vocabulary :  24460\n"
     ]
    },
    {
     "name": "stderr",
     "output_type": "stream",
     "text": [
      "Average Word2Vec - Train data: 100%|███████████████████████████████████| 245865/245865 [04:55<00:00, 831.11 sentence/s]\n",
      "Average Word2Vec - Test data: 100%|████████████████████████████████████| 105372/105372 [02:15<00:00, 778.30 sentence/s]\n"
     ]
    },
    {
     "name": "stdout",
     "output_type": "stream",
     "text": [
      "\n",
      "Shape of training vectorizer :  (245865, 200)\n",
      "Shape of testing vectorizer :  (105372, 200)\n",
      "Wall time: 7min 32s\n"
     ]
    }
   ],
   "source": [
    "%%time\n",
    "\n",
    "# Create our own Word2Vec model from training data.\n",
    "        \n",
    "# Make list of list from training data\n",
    "list_of_sentences_in_train=[]\n",
    "for sentence in X_TRAIN:\n",
    "    list_of_sentences_in_train.append(sentence.split())\n",
    "            \n",
    "# Make list of list from testing data - this will be useful when vectorizing testing data.\n",
    "list_of_sentences_in_test=[]\n",
    "for sentence in X_TEST:\n",
    "    list_of_sentences_in_test.append(sentence.split())\n",
    "            \n",
    "print(\"Shape of training data : \",X_TRAIN.shape)\n",
    "print(\"Shape of testing data : \",X_TEST.shape)\n",
    "print(\"Number of sentences present in training data : \",len(list_of_sentences_in_train))\n",
    "print(\"Number of sentences present in testing data : \",len(list_of_sentences_in_test))\n",
    "        \n",
    "# Generate model\n",
    "w2v_model = Word2Vec(list_of_sentences_in_train,min_count=3,size=200, workers=6)\n",
    "        \n",
    "# List of word in vocabulary \n",
    "w2v_words = list(w2v_model.wv.vocab)\n",
    "print(\"Length of vocabulary : \",len(w2v_words))\n",
    "\n",
    "# Prepare train vectorizer using trained word2vec model\n",
    "train_list = []\n",
    "for sentence in tqdm(list_of_sentences_in_train,unit=\" sentence\",desc='Average Word2Vec - Train data'):\n",
    "    word_2_vec = np.zeros(200)\n",
    "    cnt_words = 0\n",
    "    for word in sentence:\n",
    "        if word in w2v_words:\n",
    "            vec = w2v_model.wv[word]\n",
    "            word_2_vec += vec\n",
    "            cnt_words += 1\n",
    "    if cnt_words != 0 :\n",
    "        word_2_vec /= cnt_words\n",
    "    train_list.append(word_2_vec)\n",
    "        \n",
    "# Prepare test vectorizer using trained word2vec model\n",
    "test_list = []\n",
    "for sentence in tqdm(list_of_sentences_in_test,unit=\" sentence\",desc='Average Word2Vec - Test data'):\n",
    "    word_2_vec = np.zeros(200)\n",
    "    cnt_words = 0\n",
    "    for word in sentence:\n",
    "        if word in w2v_words:\n",
    "            vec = w2v_model.wv[word]\n",
    "            word_2_vec += vec\n",
    "            cnt_words += 1\n",
    "    if cnt_words != 0 :\n",
    "        word_2_vec /= cnt_words\n",
    "    test_list.append(word_2_vec)\n",
    "            \n",
    "avg_w2v_train = np.array(train_list)\n",
    "avg_w2v_test = np.array(test_list)\n",
    "           \n",
    "\n",
    "print(\"\\nShape of training vectorizer : \",avg_w2v_train.shape)\n",
    "print(\"Shape of testing vectorizer : \",avg_w2v_test.shape)"
   ]
  },
  {
   "cell_type": "code",
   "execution_count": 38,
   "metadata": {},
   "outputs": [
    {
     "name": "stdout",
     "output_type": "stream",
     "text": [
      "Fitting 5 folds for each of 16 candidates, totalling 80 fits\n"
     ]
    },
    {
     "name": "stderr",
     "output_type": "stream",
     "text": [
      "[Parallel(n_jobs=-1)]: Using backend LokyBackend with 6 concurrent workers.\n",
      "[Parallel(n_jobs=-1)]: Done   1 tasks      | elapsed:    2.8s\n",
      "[Parallel(n_jobs=-1)]: Done  38 tasks      | elapsed:   20.9s\n",
      "[Parallel(n_jobs=-1)]: Done  80 out of  80 | elapsed:  1.1min finished\n"
     ]
    },
    {
     "name": "stdout",
     "output_type": "stream",
     "text": [
      "\n",
      "Best HyperParameter:  0.0005\n",
      "Best Accuracy on Train Data: 85.33%\n",
      "Wall time: 1min 6s\n"
     ]
    }
   ],
   "source": [
    "%%time\n",
    "\n",
    "# Instantiate GridSearchCV and perform 5-fold cross validation\n",
    "gscv = GridSearchCV(sgdClassifier,\n",
    "                    param_grid = param_grid,\n",
    "                    cv = TimeSeriesSplit(n_splits=5),\n",
    "                    n_jobs = -1,\n",
    "                    verbose = 6)\n",
    "\n",
    "# Fit the model\n",
    "gscv.fit(avg_w2v_train,Y_TRAIN)\n",
    "\n",
    "optimal_alpha = gscv.best_params_.get('alpha')\n",
    "list_alpha.append(optimal_alpha)\n",
    "\n",
    "print() \n",
    "print(\"Best HyperParameter: \",optimal_alpha)\n",
    "print(\"Best Accuracy on Train Data: %.2f%%\"%(gscv.best_score_*100))"
   ]
  },
  {
   "cell_type": "code",
   "execution_count": 39,
   "metadata": {},
   "outputs": [
    {
     "data": {
      "text/plain": [
       "SGDClassifier(alpha=0.0005, average=False, class_weight='balanced',\n",
       "       early_stopping=False, epsilon=0.1, eta0=0.0, fit_intercept=True,\n",
       "       l1_ratio=0.15, learning_rate='optimal', loss='hinge', max_iter=2000,\n",
       "       n_iter=None, n_iter_no_change=5, n_jobs=-1, penalty='l2',\n",
       "       power_t=0.5, random_state=None, shuffle=True, tol=0.0001,\n",
       "       validation_fraction=0.1, verbose=0, warm_start=False)"
      ]
     },
     "execution_count": 39,
     "metadata": {},
     "output_type": "execute_result"
    }
   ],
   "source": [
    "# Get estimator back with best parameters\n",
    "classifier = gscv.best_estimator_\n",
    "\n",
    "classifier"
   ]
  },
  {
   "cell_type": "code",
   "execution_count": 40,
   "metadata": {},
   "outputs": [
    {
     "name": "stdout",
     "output_type": "stream",
     "text": [
      "\n",
      "+------------------------------------------------------------------+\n",
      "|            Classification Report with alpha = 0.0005             |\n",
      "+----------------------+-----------+--------+----------+-----------+\n",
      "| Class Lable/Averages | Precision | Recall | F1-Score |  Support  |\n",
      "+----------------------+-----------+--------+----------+-----------+\n",
      "|       negative       |    0.52   |  0.88  |   0.66   |  17838.00 |\n",
      "|       positive       |    0.97   |  0.84  |   0.90   |  87534.00 |\n",
      "|      micro avg       |    0.84   |  0.84  |   0.84   | 105372.00 |\n",
      "|      macro avg       |    0.75   |  0.86  |   0.78   | 105372.00 |\n",
      "|     weighted avg     |    0.90   |  0.84  |   0.86   | 105372.00 |\n",
      "+----------------------+-----------+--------+----------+-----------+\n",
      "\n",
      "\n",
      "Accuracy on Test Data: 84.40%\n",
      "\n",
      "\n",
      "--------------- Confusion Matrix of Test Data ---------------\n"
     ]
    },
    {
     "data": {
      "text/plain": [
       "<matplotlib.axes._subplots.AxesSubplot at 0x1abec432320>"
      ]
     },
     "execution_count": 40,
     "metadata": {},
     "output_type": "execute_result"
    },
    {
     "data": {
      "image/png": "[encoded data removed]",
      "text/plain": [
       "<Figure size 432x288 with 2 Axes>"
      ]
     },
     "metadata": {},
     "output_type": "display_data"
    }
   ],
   "source": [
    "predicted_y_train = classifier.predict(avg_w2v_train)\n",
    "predicted_y_test = classifier.predict(avg_w2v_test)\n",
    "\n",
    "print()          \n",
    "ptable = PrettyTable()\n",
    "ptable.title = \"Classification Report with alpha = {0}\".format(optimal_alpha)\n",
    "ptable.field_names = [\"Class Lable/Averages\",\"Precision\", \"Recall\",\"F1-Score\",\"Support\"]\n",
    "report_dict = classification_report(Y_TEST, predicted_y_test,output_dict = True)\n",
    "for key , value in report_dict.items():        \n",
    "    inner_dict = value        \n",
    "    ptable.add_row([key,\n",
    "                    \"{0:.2f}\".format(inner_dict['precision']),\n",
    "                    \"{0:.2f}\".format(inner_dict['recall']),\n",
    "                    \"{0:.2f}\".format(inner_dict['f1-score']),\n",
    "                    \"{0:.2f}\".format(inner_dict['support'])])\n",
    "            \n",
    "print(ptable)\n",
    "print()\n",
    "print()\n",
    "\n",
    "train_accuracy =  accuracy_score(Y_TRAIN,predicted_y_train)\n",
    "train_error.append(1-train_accuracy) \n",
    "\n",
    "test_accuracy =  accuracy_score(Y_TEST,predicted_y_test)\n",
    "test_error.append(1-test_accuracy) \n",
    "\n",
    "print(\"Accuracy on Test Data: %0.2f%%\"%(test_accuracy*100))\n",
    "print()\n",
    "print()\n",
    "print(\"--------------- Confusion Matrix of Test Data ---------------\")\n",
    "sns.set(font_scale=1.4)\n",
    "sns.heatmap(pd.DataFrame(confusion_matrix(Y_TEST, predicted_y_test), range(2),range(2)), \n",
    "            annot=True,\n",
    "            annot_kws={\"size\": 14}, \n",
    "            fmt='g')"
   ]
  },
  {
   "cell_type": "markdown",
   "metadata": {},
   "source": [
    "#### (3.4) Term Frequency - Inverse Document Frequency Weighted Word2Vec(TF-IDF Word2Vec) :"
   ]
  },
  {
   "cell_type": "code",
   "execution_count": 41,
   "metadata": {
    "scrolled": true
   },
   "outputs": [
    {
     "name": "stderr",
     "output_type": "stream",
     "text": [
      "TF-IDF Weighted Word2Vec - Train data: 100%|██████████████████████████| 245865/245865 [01:12<00:00, 3377.80 sentence/s]\n",
      "TF-IDF Weighted Word2Vec - Test data: 100%|███████████████████████████| 105372/105372 [00:31<00:00, 3297.66 sentence/s]\n"
     ]
    },
    {
     "name": "stdout",
     "output_type": "stream",
     "text": [
      "\n",
      "Shape of training vectorizer :  (245865, 200)\n",
      "Shape of testing vectorizer :  (105372, 200)\n",
      "Wall time: 2min 46s\n"
     ]
    }
   ],
   "source": [
    "%%time\n",
    "\n",
    "# Make list of list from training data.      \n",
    "sentences_in_train=[]\n",
    "for sentence in X_TRAIN:\n",
    "    sentences_in_train.append(sentence.split())\n",
    "\n",
    "# Make list of list from testing data - this will be useful when vectorizing testing data.\n",
    "sentences_in_test=[]\n",
    "for sentence in X_TEST:\n",
    "    sentences_in_test.append(sentence.split())\n",
    "            \n",
    "# Generate model\n",
    "w2v_model = Word2Vec(sentences_in_train,min_count=3,size=200, workers=6)\n",
    "\n",
    "# Instantiate TfidfVectorizer\n",
    "tfidf_vectorizer = TfidfVectorizer(min_df = 3,ngram_range=(1,2))\n",
    "\n",
    "# Tokenize and build vocab\n",
    "tfidf_vectorizer.fit(X_TRAIN)\n",
    "\n",
    "# Encode document\n",
    "x_train_matrix = tfidf_vectorizer.transform(X_TRAIN)\n",
    "\n",
    "# Get feature names\n",
    "feature_names = tfidf_vectorizer.get_feature_names()\n",
    "\n",
    "# Dictionary with word as a key, and the idf as a value\n",
    "dict_word_idf = dict(zip(feature_names, list(tfidf_vectorizer.idf_)))\n",
    "\n",
    "# Prepare train vectorizer using trained word2vec model        \n",
    "train_list = []\n",
    "row = 0\n",
    "for sentence in tqdm(sentences_in_train,unit=\" sentence\",desc='TF-IDF Weighted Word2Vec - Train data'):\n",
    "    word_2_vec = np.zeros(200)\n",
    "    weight_tfidf_sum = 0\n",
    "    for word in sentence:\n",
    "        try:\n",
    "            vec = w2v_model.wv[word]\n",
    "            # dict_word_idf[word] = idf value of word in whole courpus\n",
    "            # sentence.count(word) = tf valeus of word in this review\n",
    "            tfidf_value =  dict_word_idf[word]*sentence.count(word)\n",
    "            word_2_vec += (vec * tfidf_value)\n",
    "            weight_tfidf_sum += tfidf_value\n",
    "        except:\n",
    "            pass\n",
    "    if weight_tfidf_sum != 0:\n",
    "        word_2_vec /= weight_tfidf_sum\n",
    "    train_list.append(word_2_vec)\n",
    "    row += 1\n",
    "        \n",
    "# Prepare test vectorizer using trained word2vec model\n",
    "test_list = []\n",
    "row = 0\n",
    "for sentence in tqdm(sentences_in_test, unit=\" sentence\",desc='TF-IDF Weighted Word2Vec - Test data'):\n",
    "    word_2_vec = np.zeros(200)\n",
    "    weight_tfidf_sum = 0\n",
    "    for word in sentence:\n",
    "        try:\n",
    "            vec = w2v_model.wv[word]\n",
    "            # dict_word_idf[word] = idf value of word in whole courpus\n",
    "            # sentence.count(word) = tf valeus of word in this review\n",
    "            tfidf_value =  dict_word_idf[word]*sentence.count(word)\n",
    "            word_2_vec += (vec * tfidf_value)\n",
    "            weight_tfidf_sum += tfidf_value\n",
    "        except:\n",
    "            pass\n",
    "    if weight_tfidf_sum != 0:\n",
    "        word_2_vec /= weight_tfidf_sum\n",
    "    test_list.append(word_2_vec)\n",
    "    row += 1\n",
    "        \n",
    "tfidf_w2v_train = np.array(train_list)\n",
    "tfidf_w2v_test = np.array(test_list)\n",
    "\n",
    "\n",
    "print(\"\\nShape of training vectorizer : \",tfidf_w2v_train.shape)\n",
    "print(\"Shape of testing vectorizer : \",tfidf_w2v_test.shape)"
   ]
  },
  {
   "cell_type": "code",
   "execution_count": 42,
   "metadata": {},
   "outputs": [
    {
     "name": "stdout",
     "output_type": "stream",
     "text": [
      "Fitting 5 folds for each of 16 candidates, totalling 80 fits\n"
     ]
    },
    {
     "name": "stderr",
     "output_type": "stream",
     "text": [
      "[Parallel(n_jobs=-1)]: Using backend LokyBackend with 6 concurrent workers.\n",
      "[Parallel(n_jobs=-1)]: Done   1 tasks      | elapsed:    1.7s\n",
      "[Parallel(n_jobs=-1)]: Done  38 tasks      | elapsed:   27.9s\n",
      "[Parallel(n_jobs=-1)]: Done  80 out of  80 | elapsed:  1.2min finished\n"
     ]
    },
    {
     "name": "stdout",
     "output_type": "stream",
     "text": [
      "\n",
      "Best HyperParameter:  500\n",
      "Best Accuracy on Train Data: 84.78%\n",
      "Wall time: 1min 11s\n"
     ]
    }
   ],
   "source": [
    "%%time\n",
    "\n",
    "# Instantiate GridSearchCV and perform 5-fold cross validation\n",
    "gscv = GridSearchCV(sgdClassifier,\n",
    "                    param_grid = param_grid,\n",
    "                    cv = TimeSeriesSplit(n_splits=5),\n",
    "                    n_jobs = -1,\n",
    "                    verbose = 6)\n",
    "\n",
    "# Fit the model\n",
    "gscv.fit(tfidf_w2v_train,Y_TRAIN)\n",
    "\n",
    "optimal_alpha = gscv.best_params_.get('alpha')\n",
    "list_alpha.append(optimal_alpha)\n",
    "\n",
    "\n",
    "print() \n",
    "print(\"Best HyperParameter: \",optimal_alpha)\n",
    "print(\"Best Accuracy on Train Data: %.2f%%\"%(gscv.best_score_*100))\n"
   ]
  },
  {
   "cell_type": "code",
   "execution_count": 43,
   "metadata": {},
   "outputs": [
    {
     "data": {
      "text/plain": [
       "SGDClassifier(alpha=500, average=False, class_weight='balanced',\n",
       "       early_stopping=False, epsilon=0.1, eta0=0.0, fit_intercept=True,\n",
       "       l1_ratio=0.15, learning_rate='optimal', loss='hinge', max_iter=2000,\n",
       "       n_iter=None, n_iter_no_change=5, n_jobs=-1, penalty='l2',\n",
       "       power_t=0.5, random_state=None, shuffle=True, tol=0.0001,\n",
       "       validation_fraction=0.1, verbose=0, warm_start=False)"
      ]
     },
     "execution_count": 43,
     "metadata": {},
     "output_type": "execute_result"
    }
   ],
   "source": [
    "# Get estimator back with best parameters\n",
    "classifier = gscv.best_estimator_\n",
    "\n",
    "classifier"
   ]
  },
  {
   "cell_type": "code",
   "execution_count": 44,
   "metadata": {},
   "outputs": [
    {
     "name": "stdout",
     "output_type": "stream",
     "text": [
      "\n",
      "+------------------------------------------------------------------+\n",
      "|              Classification Report with alpha = 500              |\n",
      "+----------------------+-----------+--------+----------+-----------+\n",
      "| Class Lable/Averages | Precision | Recall | F1-Score |  Support  |\n",
      "+----------------------+-----------+--------+----------+-----------+\n",
      "|       negative       |    0.00   |  0.00  |   0.00   |  17838.00 |\n",
      "|       positive       |    0.83   |  1.00  |   0.91   |  87534.00 |\n",
      "|      micro avg       |    0.83   |  0.83  |   0.83   | 105372.00 |\n",
      "|      macro avg       |    0.42   |  0.50  |   0.45   | 105372.00 |\n",
      "|     weighted avg     |    0.69   |  0.83  |   0.75   | 105372.00 |\n",
      "+----------------------+-----------+--------+----------+-----------+\n",
      "\n",
      "\n",
      "Accuracy on Test Data: 83.07%\n",
      "\n",
      "\n",
      "--------------- Confusion Matrix of Test Data ---------------\n"
     ]
    },
    {
     "data": {
      "text/plain": [
       "<matplotlib.axes._subplots.AxesSubplot at 0x1abe5ece128>"
      ]
     },
     "execution_count": 44,
     "metadata": {},
     "output_type": "execute_result"
    },
    {
     "data": {
      "image/png": "[encoded data removed]",
      "text/plain": [
       "<Figure size 432x288 with 2 Axes>"
      ]
     },
     "metadata": {},
     "output_type": "display_data"
    }
   ],
   "source": [
    "predicted_y_train = classifier.predict(tfidf_w2v_train)\n",
    "predicted_y_test = classifier.predict(tfidf_w2v_test)\n",
    "\n",
    "print()          \n",
    "ptable = PrettyTable()\n",
    "ptable.title = \"Classification Report with alpha = {0}\".format(optimal_alpha)\n",
    "ptable.field_names = [\"Class Lable/Averages\",\"Precision\", \"Recall\",\"F1-Score\",\"Support\"]\n",
    "report_dict = classification_report(Y_TEST, predicted_y_test,output_dict = True)\n",
    "for key , value in report_dict.items():        \n",
    "    inner_dict = value        \n",
    "    ptable.add_row([key,\n",
    "                    \"{0:.2f}\".format(inner_dict['precision']),\n",
    "                    \"{0:.2f}\".format(inner_dict['recall']),\n",
    "                    \"{0:.2f}\".format(inner_dict['f1-score']),\n",
    "                    \"{0:.2f}\".format(inner_dict['support'])])\n",
    "            \n",
    "print(ptable)\n",
    "print()\n",
    "print()\n",
    "\n",
    "train_accuracy =  accuracy_score(Y_TRAIN,predicted_y_train)\n",
    "train_error.append(1-train_accuracy) \n",
    "\n",
    "test_accuracy =  accuracy_score(Y_TEST,predicted_y_test)\n",
    "test_error.append(1-test_accuracy) \n",
    "\n",
    "print(\"Accuracy on Test Data: %0.2f%%\"%(test_accuracy*100))\n",
    "print()\n",
    "print()\n",
    "print(\"--------------- Confusion Matrix of Test Data ---------------\")\n",
    "sns.set(font_scale=1.4)\n",
    "sns.heatmap(pd.DataFrame(confusion_matrix(Y_TEST, predicted_y_test), range(2),range(2)), \n",
    "            annot=True,\n",
    "            annot_kws={\"size\": 14}, \n",
    "            fmt='g')"
   ]
  },
  {
   "cell_type": "markdown",
   "metadata": {},
   "source": [
    "---\n",
    "### Conclusion :\n",
    "---"
   ]
  },
  {
   "cell_type": "code",
   "execution_count": 45,
   "metadata": {
    "scrolled": true
   },
   "outputs": [
    {
     "name": "stdout",
     "output_type": "stream",
     "text": [
      "+--------------------------------------------------------------------------------------------------------+\n",
      "|                                    *** Conclusion - Linear-SVM ***                                     |\n",
      "+--------------+------------------------------+-----------------------+---------------------+------------+\n",
      "|      CV      |            Model             | Hyperparameter 'alpha |     Train Error     | Test Error |\n",
      "+--------------+------------------------------+-----------------------+---------------------+------------+\n",
      "| GridSearchCV |      BOW:SGDClassifier       |         1e-05         |        11.0%        |   12.0%    |\n",
      "| GridSearchCV |     TFIDF:SGDClassifier      |         1e-05         |         5.0%        |    9.0%    |\n",
      "| GridSearchCV |  AVG-WORD2VEC:SGDClassifier  |         0.0005        |        15.0%        |   16.0%    |\n",
      "| GridSearchCV | TFIDF-WORD2VEC:SGDClassifier |          500          | 14.000000000000002% |   17.0%    |\n",
      "+--------------+------------------------------+-----------------------+---------------------+------------+\n"
     ]
    }
   ],
   "source": [
    "conclude_LinearSVM()"
   ]
  },
  {
   "cell_type": "markdown",
   "metadata": {},
   "source": [
    "---\n",
    "### Observations :\n",
    "---"
   ]
  },
  {
   "cell_type": "markdown",
   "metadata": {},
   "source": [
    "> 1. Here, RBF-SVC and Linear SVM is applied on amazon fine food review dataset with time series splitting(~100K and ~364K respectively).\n",
    "> 2. Given dataset is imbalanced in nature (postive reviews:negative reviews = 5.57/1).\n",
    "> 3. Grid search and Randomized search cross validation with 2/3-fold technique is applied to calculate optimal hyperparameter 'C' and 'gamma'.\n",
    "> 4. RBF-SVC takes ample amount of time to trin the model, where as Linear SVM takes less time to train.\n",
    "> 5. Custom implementation of string kernel with more number of points can be used to increase the performance of the model.\n",
    "> 6. for more information you can always refer to conclusion table above."
   ]
  }
 ],
 "metadata": {
  "kernelspec": {
   "display_name": "Python 3",
   "language": "python",
   "name": "python3"
  },
  "language_info": {
   "codemirror_mode": {
    "name": "ipython",
    "version": 3
   },
   "file_extension": ".py",
   "mimetype": "text/x-python",
   "name": "python",
   "nbconvert_exporter": "python",
   "pygments_lexer": "ipython3",
   "version": "3.6.6"
  }
 },
 "nbformat": 4,
 "nbformat_minor": 2
}
